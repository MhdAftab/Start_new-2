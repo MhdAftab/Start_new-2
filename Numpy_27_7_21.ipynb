{
  "nbformat": 4,
  "nbformat_minor": 0,
  "metadata": {
    "colab": {
      "name": "Numpy_27/7/21.ipynb",
      "provenance": [],
      "collapsed_sections": [
        "sL8Oofi0ZCZ-",
        "4gpQY3OMkOBW",
        "0Li6Z8FyfV87",
        "pv0e19SliO-d",
        "JIZDcwWrox9k"
      ],
      "authorship_tag": "ABX9TyOVVtgTdAnlkYbA//MdZmqM",
      "include_colab_link": true
    },
    "kernelspec": {
      "name": "python3",
      "display_name": "Python 3"
    },
    "language_info": {
      "name": "python"
    }
  },
  "cells": [
    {
      "cell_type": "markdown",
      "metadata": {
        "id": "view-in-github",
        "colab_type": "text"
      },
      "source": [
        "<a href=\"https://colab.research.google.com/github/MhdAftab/Start_new-2/blob/main/Numpy_27_7_21.ipynb\" target=\"_parent\"><img src=\"https://colab.research.google.com/assets/colab-badge.svg\" alt=\"Open In Colab\"/></a>"
      ]
    },
    {
      "cell_type": "code",
      "metadata": {
        "id": "Eau-PMwEaqAE"
      },
      "source": [
        "import numpy as np"
      ],
      "execution_count": null,
      "outputs": []
    },
    {
      "cell_type": "markdown",
      "metadata": {
        "id": "sL8Oofi0ZCZ-"
      },
      "source": [
        "##Comparing Time"
      ]
    },
    {
      "cell_type": "code",
      "metadata": {
        "id": "8oZA_ZL0ZTl9"
      },
      "source": [
        "N = 100000000"
      ],
      "execution_count": null,
      "outputs": []
    },
    {
      "cell_type": "code",
      "metadata": {
        "colab": {
          "base_uri": "https://localhost:8080/"
        },
        "id": "lmyXrXANSJsf",
        "outputId": "c2c2251c-07f1-475f-d21b-8765408ef761"
      },
      "source": [
        "%%time\n",
        "list_ = list(range(N))\n",
        "for i in range(N):\n",
        "  list_[i] = list_[i] * list_[i]"
      ],
      "execution_count": null,
      "outputs": [
        {
          "output_type": "stream",
          "text": [
            "CPU times: user 32 s, sys: 2.19 s, total: 34.2 s\n",
            "Wall time: 34.2 s\n"
          ],
          "name": "stdout"
        }
      ]
    },
    {
      "cell_type": "code",
      "metadata": {
        "colab": {
          "base_uri": "https://localhost:8080/"
        },
        "id": "-f_5I9DbZjOV",
        "outputId": "4f93da27-8343-4371-a073-d93af4a5db21"
      },
      "source": [
        "%%time\n",
        "list_ = list(range(N))\n",
        "list_ = [item*item for item in list_]"
      ],
      "execution_count": null,
      "outputs": [
        {
          "output_type": "stream",
          "text": [
            "CPU times: user 11.2 s, sys: 5.67 s, total: 16.9 s\n",
            "Wall time: 16.9 s\n"
          ],
          "name": "stdout"
        }
      ]
    },
    {
      "cell_type": "code",
      "metadata": {
        "colab": {
          "base_uri": "https://localhost:8080/"
        },
        "id": "fvig-xHUZyGB",
        "outputId": "5b105797-4d6a-4def-cf57-f46524788c6d"
      },
      "source": [
        "%%time\n",
        "list_ = list(range(N))\n",
        "list_ = map(lambda x : x*x, list_)"
      ],
      "execution_count": null,
      "outputs": [
        {
          "output_type": "stream",
          "text": [
            "CPU times: user 2.49 s, sys: 1.9 s, total: 4.39 s\n",
            "Wall time: 4.36 s\n"
          ],
          "name": "stdout"
        }
      ]
    },
    {
      "cell_type": "code",
      "metadata": {
        "colab": {
          "base_uri": "https://localhost:8080/"
        },
        "id": "f647mvL7aK1U",
        "outputId": "920142f6-e078-415c-914f-ee35231995ec"
      },
      "source": [
        "%%time\n",
        "list_ = list(range(N))\n",
        "list_sum = 0\n",
        "for item in list_:\n",
        "  list_sum += item"
      ],
      "execution_count": null,
      "outputs": [
        {
          "output_type": "stream",
          "text": [
            "CPU times: user 14.4 s, sys: 1.89 s, total: 16.3 s\n",
            "Wall time: 16.2 s\n"
          ],
          "name": "stdout"
        }
      ]
    },
    {
      "cell_type": "code",
      "metadata": {
        "colab": {
          "base_uri": "https://localhost:8080/"
        },
        "id": "aF-hA0qRad_T",
        "outputId": "dd74b045-681f-4a89-9dbc-9812b8d35bbb"
      },
      "source": [
        "%%time\n",
        "list_ = list(range(N))\n",
        "list_sum = sum(list_)"
      ],
      "execution_count": null,
      "outputs": [
        {
          "output_type": "stream",
          "text": [
            "CPU times: user 3.3 s, sys: 1.67 s, total: 4.97 s\n",
            "Wall time: 4.93 s\n"
          ],
          "name": "stdout"
        }
      ]
    },
    {
      "cell_type": "code",
      "metadata": {
        "colab": {
          "base_uri": "https://localhost:8080/"
        },
        "id": "zhNQ8n8LavDk",
        "outputId": "323e1792-6038-4844-a749-e83c3848501d"
      },
      "source": [
        "%%time\n",
        "arr = np.arange(N) # arr of size n and every item is 0,1,2,3,4.......N\n",
        "arr = arr * arr # elementwise multiplication (eg 0*0, 1*1, 2*2.....)"
      ],
      "execution_count": null,
      "outputs": [
        {
          "output_type": "stream",
          "text": [
            "CPU times: user 478 ms, sys: 18.9 ms, total: 497 ms\n",
            "Wall time: 513 ms\n"
          ],
          "name": "stdout"
        }
      ]
    },
    {
      "cell_type": "code",
      "metadata": {
        "colab": {
          "base_uri": "https://localhost:8080/"
        },
        "id": "E4lR6tnvbM1O",
        "outputId": "23c38874-98bc-4c8f-f6e3-ff0db72debce"
      },
      "source": [
        "%%time\n",
        "arr = np.arange(N) \n",
        "arr_sum = np.sum(arr)"
      ],
      "execution_count": null,
      "outputs": [
        {
          "output_type": "stream",
          "text": [
            "CPU times: user 295 ms, sys: 20.8 ms, total: 316 ms\n",
            "Wall time: 319 ms\n"
          ],
          "name": "stdout"
        }
      ]
    },
    {
      "cell_type": "markdown",
      "metadata": {
        "id": "4gpQY3OMkOBW"
      },
      "source": [
        "#Creating np array"
      ]
    },
    {
      "cell_type": "code",
      "metadata": {
        "id": "Y-x9S03hbT9W"
      },
      "source": [
        "arr = np.arange(5)"
      ],
      "execution_count": null,
      "outputs": []
    },
    {
      "cell_type": "code",
      "metadata": {
        "colab": {
          "base_uri": "https://localhost:8080/"
        },
        "id": "ugL--kZCkXvm",
        "outputId": "a524b2f3-04af-407a-894f-f30f3ccc21ce"
      },
      "source": [
        "print(arr, type(arr))"
      ],
      "execution_count": null,
      "outputs": [
        {
          "output_type": "stream",
          "text": [
            "[0 1 2 3 4] <class 'numpy.ndarray'>\n"
          ],
          "name": "stdout"
        }
      ]
    },
    {
      "cell_type": "code",
      "metadata": {
        "colab": {
          "base_uri": "https://localhost:8080/"
        },
        "id": "PoN4Vks8kaBt",
        "outputId": "07c4f922-ecd1-4f22-8bf2-2d4d8edfbfe5"
      },
      "source": [
        "arr = np.array([1,2,3,4,5]) # Converting a list to np array\n",
        "print(arr, type(arr))"
      ],
      "execution_count": null,
      "outputs": [
        {
          "output_type": "stream",
          "text": [
            "[1 2 3 4 5] <class 'numpy.ndarray'>\n"
          ],
          "name": "stdout"
        }
      ]
    },
    {
      "cell_type": "code",
      "metadata": {
        "colab": {
          "base_uri": "https://localhost:8080/"
        },
        "id": "YLWi-sgckd_g",
        "outputId": "9c062620-87b4-4665-8565-d3350b41635c"
      },
      "source": [
        "arr.dtype # data type of each element of np array with capacity (64 bytyes)"
      ],
      "execution_count": null,
      "outputs": [
        {
          "output_type": "execute_result",
          "data": {
            "text/plain": [
              "dtype('int64')"
            ]
          },
          "metadata": {
            "tags": []
          },
          "execution_count": 13
        }
      ]
    },
    {
      "cell_type": "code",
      "metadata": {
        "colab": {
          "base_uri": "https://localhost:8080/"
        },
        "id": "5O0Ljh8Xkvzw",
        "outputId": "3da14216-b7eb-4a5b-d159-e5d5eb362ff9"
      },
      "source": [
        "arr.ndim # number of dimension of an array"
      ],
      "execution_count": null,
      "outputs": [
        {
          "output_type": "execute_result",
          "data": {
            "text/plain": [
              "1"
            ]
          },
          "metadata": {
            "tags": []
          },
          "execution_count": 14
        }
      ]
    },
    {
      "cell_type": "code",
      "metadata": {
        "colab": {
          "base_uri": "https://localhost:8080/"
        },
        "id": "84PrYkLPk6nw",
        "outputId": "c1a73b03-88e3-4e36-e335-26f17fc92ae6"
      },
      "source": [
        "arr.shape # shape of an array"
      ],
      "execution_count": null,
      "outputs": [
        {
          "output_type": "execute_result",
          "data": {
            "text/plain": [
              "(5,)"
            ]
          },
          "metadata": {
            "tags": []
          },
          "execution_count": 15
        }
      ]
    },
    {
      "cell_type": "code",
      "metadata": {
        "colab": {
          "base_uri": "https://localhost:8080/"
        },
        "id": "MZgebyg9lDTA",
        "outputId": "d94f05a1-4a1b-4dee-c1b9-6ca95a01db21"
      },
      "source": [
        "arr.size # total number of elements in numpy array"
      ],
      "execution_count": null,
      "outputs": [
        {
          "output_type": "execute_result",
          "data": {
            "text/plain": [
              "5"
            ]
          },
          "metadata": {
            "tags": []
          },
          "execution_count": 16
        }
      ]
    },
    {
      "cell_type": "code",
      "metadata": {
        "colab": {
          "base_uri": "https://localhost:8080/"
        },
        "id": "KaSK9RBTlIfQ",
        "outputId": "8ee9291b-633e-486f-9bd6-b9331e8571a7"
      },
      "source": [
        "arr.itemsize # number of bytes required to store a single item "
      ],
      "execution_count": null,
      "outputs": [
        {
          "output_type": "execute_result",
          "data": {
            "text/plain": [
              "8"
            ]
          },
          "metadata": {
            "tags": []
          },
          "execution_count": 17
        }
      ]
    },
    {
      "cell_type": "code",
      "metadata": {
        "colab": {
          "base_uri": "https://localhost:8080/"
        },
        "id": "-Zw2WvhZlgAg",
        "outputId": "13f33659-bfc8-48db-9483-cadb2a76b823"
      },
      "source": [
        "arr = np.array([1.0,2,3,4,5]) # it will read as floating points as one of elements changes to float\n",
        "print(arr, type(arr))"
      ],
      "execution_count": null,
      "outputs": [
        {
          "output_type": "stream",
          "text": [
            "[1. 2. 3. 4. 5.] <class 'numpy.ndarray'>\n"
          ],
          "name": "stdout"
        }
      ]
    },
    {
      "cell_type": "code",
      "metadata": {
        "colab": {
          "base_uri": "https://localhost:8080/"
        },
        "id": "Gb1UY3BNl7iA",
        "outputId": "27197eea-2686-4786-ff39-f6dda65a5fee"
      },
      "source": [
        "arr.dtype"
      ],
      "execution_count": null,
      "outputs": [
        {
          "output_type": "execute_result",
          "data": {
            "text/plain": [
              "dtype('float64')"
            ]
          },
          "metadata": {
            "tags": []
          },
          "execution_count": 19
        }
      ]
    },
    {
      "cell_type": "markdown",
      "metadata": {
        "id": "e5ts0pIznc5v"
      },
      "source": [
        "2D np array"
      ]
    },
    {
      "cell_type": "code",
      "metadata": {
        "id": "oTGOKEJumMSw"
      },
      "source": [
        "arr2d = np.array([\n",
        "                  [1,2,3],\n",
        "                  [4,5,6]\n",
        "])"
      ],
      "execution_count": null,
      "outputs": []
    },
    {
      "cell_type": "code",
      "metadata": {
        "colab": {
          "base_uri": "https://localhost:8080/"
        },
        "id": "Nqxfv4RInlRm",
        "outputId": "b994b146-5238-45a2-e4d5-fe9fd59440bd"
      },
      "source": [
        "print(arr2d)"
      ],
      "execution_count": null,
      "outputs": [
        {
          "output_type": "stream",
          "text": [
            "[[1 2 3]\n",
            " [4 5 6]]\n"
          ],
          "name": "stdout"
        }
      ]
    },
    {
      "cell_type": "code",
      "metadata": {
        "colab": {
          "base_uri": "https://localhost:8080/"
        },
        "id": "BKjQzz3bnyZI",
        "outputId": "17c5c0f6-1ca0-4169-d1b1-b532a57fa767"
      },
      "source": [
        "arr2d.ndim"
      ],
      "execution_count": null,
      "outputs": [
        {
          "output_type": "execute_result",
          "data": {
            "text/plain": [
              "2"
            ]
          },
          "metadata": {
            "tags": []
          },
          "execution_count": 22
        }
      ]
    },
    {
      "cell_type": "code",
      "metadata": {
        "colab": {
          "base_uri": "https://localhost:8080/"
        },
        "id": "bpWffHiyn57f",
        "outputId": "c3cd91cc-9f9c-472f-acd6-b75e38f740e2"
      },
      "source": [
        "arr2d.shape"
      ],
      "execution_count": null,
      "outputs": [
        {
          "output_type": "execute_result",
          "data": {
            "text/plain": [
              "(2, 3)"
            ]
          },
          "metadata": {
            "tags": []
          },
          "execution_count": 23
        }
      ]
    },
    {
      "cell_type": "code",
      "metadata": {
        "colab": {
          "base_uri": "https://localhost:8080/"
        },
        "id": "o6uL8J3wnm8f",
        "outputId": "9abbfe62-ebcd-4668-de27-e0394dcabfc2"
      },
      "source": [
        "arr2d.size"
      ],
      "execution_count": null,
      "outputs": [
        {
          "output_type": "execute_result",
          "data": {
            "text/plain": [
              "6"
            ]
          },
          "metadata": {
            "tags": []
          },
          "execution_count": 24
        }
      ]
    },
    {
      "cell_type": "markdown",
      "metadata": {
        "id": "K78FiqnYn9p3"
      },
      "source": [
        "3D np Array"
      ]
    },
    {
      "cell_type": "code",
      "metadata": {
        "id": "-76kXehxns5A"
      },
      "source": [
        "arr3d = np.array([\n",
        "                  [\n",
        "                   [1,2,3],\n",
        "                   [4,5,6]\n",
        "                  ],\n",
        "                  [\n",
        "                   [7,8,9],\n",
        "                   [10,11,12]\n",
        "                  ]\n",
        "])"
      ],
      "execution_count": null,
      "outputs": []
    },
    {
      "cell_type": "code",
      "metadata": {
        "colab": {
          "base_uri": "https://localhost:8080/"
        },
        "id": "QJFAhIUloMgP",
        "outputId": "abedc7e9-b3a6-44a9-8998-e0c4c728a168"
      },
      "source": [
        "print(arr3d)"
      ],
      "execution_count": null,
      "outputs": [
        {
          "output_type": "stream",
          "text": [
            "[[[ 1  2  3]\n",
            "  [ 4  5  6]]\n",
            "\n",
            " [[ 7  8  9]\n",
            "  [10 11 12]]]\n"
          ],
          "name": "stdout"
        }
      ]
    },
    {
      "cell_type": "code",
      "metadata": {
        "colab": {
          "base_uri": "https://localhost:8080/"
        },
        "id": "kx11vxU_oWn_",
        "outputId": "bcf3af23-4dea-4965-a1a6-fb5acd6d40d5"
      },
      "source": [
        "arr3d.ndim"
      ],
      "execution_count": null,
      "outputs": [
        {
          "output_type": "execute_result",
          "data": {
            "text/plain": [
              "3"
            ]
          },
          "metadata": {
            "tags": []
          },
          "execution_count": 27
        }
      ]
    },
    {
      "cell_type": "code",
      "metadata": {
        "colab": {
          "base_uri": "https://localhost:8080/"
        },
        "id": "K5Sin7izoYvP",
        "outputId": "88876543-bb67-4b49-e237-3eb687cc265b"
      },
      "source": [
        "arr3d.shape"
      ],
      "execution_count": null,
      "outputs": [
        {
          "output_type": "execute_result",
          "data": {
            "text/plain": [
              "(2, 2, 3)"
            ]
          },
          "metadata": {
            "tags": []
          },
          "execution_count": 28
        }
      ]
    },
    {
      "cell_type": "code",
      "metadata": {
        "colab": {
          "base_uri": "https://localhost:8080/"
        },
        "id": "6K_cXoLGobJP",
        "outputId": "9386198c-4d22-491c-feca-861a387839d4"
      },
      "source": [
        "arr3d.size"
      ],
      "execution_count": null,
      "outputs": [
        {
          "output_type": "execute_result",
          "data": {
            "text/plain": [
              "12"
            ]
          },
          "metadata": {
            "tags": []
          },
          "execution_count": 29
        }
      ]
    },
    {
      "cell_type": "code",
      "metadata": {
        "colab": {
          "base_uri": "https://localhost:8080/"
        },
        "id": "VsUeW0RlodZv",
        "outputId": "3f3c84b9-4608-4a71-ada1-16d2ff70f233"
      },
      "source": [
        "# array of all the values to be ones\n",
        "np.ones((2,3,4)) # argument-> tuple of desried shape"
      ],
      "execution_count": null,
      "outputs": [
        {
          "output_type": "execute_result",
          "data": {
            "text/plain": [
              "array([[[1., 1., 1., 1.],\n",
              "        [1., 1., 1., 1.],\n",
              "        [1., 1., 1., 1.]],\n",
              "\n",
              "       [[1., 1., 1., 1.],\n",
              "        [1., 1., 1., 1.],\n",
              "        [1., 1., 1., 1.]]])"
            ]
          },
          "metadata": {
            "tags": []
          },
          "execution_count": 30
        }
      ]
    },
    {
      "cell_type": "code",
      "metadata": {
        "colab": {
          "base_uri": "https://localhost:8080/"
        },
        "id": "5Gdjsp9oo6L3",
        "outputId": "cc8b1a99-2e71-4485-9533-c50ea436a614"
      },
      "source": [
        "# array of all the values to be any scalar value\n",
        "1234*np.ones((2,3,4)) # broadcast scalar value(1234) in the desired shape and then elementwise multilplication"
      ],
      "execution_count": null,
      "outputs": [
        {
          "output_type": "execute_result",
          "data": {
            "text/plain": [
              "array([[[1234., 1234., 1234., 1234.],\n",
              "        [1234., 1234., 1234., 1234.],\n",
              "        [1234., 1234., 1234., 1234.]],\n",
              "\n",
              "       [[1234., 1234., 1234., 1234.],\n",
              "        [1234., 1234., 1234., 1234.],\n",
              "        [1234., 1234., 1234., 1234.]]])"
            ]
          },
          "metadata": {
            "tags": []
          },
          "execution_count": 31
        }
      ]
    },
    {
      "cell_type": "code",
      "metadata": {
        "colab": {
          "base_uri": "https://localhost:8080/"
        },
        "id": "8eu2kWEYooWv",
        "outputId": "bf9635fa-da6d-46fb-b86e-160634b99072"
      },
      "source": [
        "# array of all the values to be zeroes\n",
        "np.zeros((2,3,4))"
      ],
      "execution_count": null,
      "outputs": [
        {
          "output_type": "execute_result",
          "data": {
            "text/plain": [
              "array([[[0., 0., 0., 0.],\n",
              "        [0., 0., 0., 0.],\n",
              "        [0., 0., 0., 0.]],\n",
              "\n",
              "       [[0., 0., 0., 0.],\n",
              "        [0., 0., 0., 0.],\n",
              "        [0., 0., 0., 0.]]])"
            ]
          },
          "metadata": {
            "tags": []
          },
          "execution_count": 32
        }
      ]
    },
    {
      "cell_type": "code",
      "metadata": {
        "id": "55YmKrjSo1eu",
        "colab": {
          "base_uri": "https://localhost:8080/"
        },
        "outputId": "d77560ca-8dd6-4966-d263-72499e956751"
      },
      "source": [
        "np.random.randn(2, 3) #(arg=> shape of an array) generate series of 2*3 numbers randomly sampled from a normal dist.. with 0 mean and unit SD"
      ],
      "execution_count": null,
      "outputs": [
        {
          "output_type": "execute_result",
          "data": {
            "text/plain": [
              "array([[ 1.78668949, -0.63157103, -0.27832356],\n",
              "       [-0.62465795,  0.42026742, -0.85215212]])"
            ]
          },
          "metadata": {
            "tags": []
          },
          "execution_count": 33
        }
      ]
    },
    {
      "cell_type": "code",
      "metadata": {
        "colab": {
          "base_uri": "https://localhost:8080/"
        },
        "id": "R6l76GoOUsCf",
        "outputId": "e3fbd53a-4fb0-4698-b2e7-cec296fe2e0e"
      },
      "source": [
        "np.random.rand(2, 3) #(arg=> shape of an array) random numbers uniformly sampled between 0 and 1 (each number equally likely)"
      ],
      "execution_count": null,
      "outputs": [
        {
          "output_type": "execute_result",
          "data": {
            "text/plain": [
              "array([[0.39554053, 0.55502816, 0.66871267],\n",
              "       [0.54632947, 0.98919504, 0.91817617]])"
            ]
          },
          "metadata": {
            "tags": []
          },
          "execution_count": 34
        }
      ]
    },
    {
      "cell_type": "code",
      "metadata": {
        "colab": {
          "base_uri": "https://localhost:8080/"
        },
        "id": "8m_Zk_jZVAlh",
        "outputId": "ffddd6e6-bb19-47f8-fceb-e6d973290b48"
      },
      "source": [
        "np.random.randint(0, 100, (2, 3)) #(arg=> min_lim, max_lim, shape of arr) random number between min_lim and max_lim with the given shape"
      ],
      "execution_count": null,
      "outputs": [
        {
          "output_type": "execute_result",
          "data": {
            "text/plain": [
              "array([[70, 14, 84],\n",
              "       [48, 74, 71]])"
            ]
          },
          "metadata": {
            "tags": []
          },
          "execution_count": 35
        }
      ]
    },
    {
      "cell_type": "code",
      "metadata": {
        "colab": {
          "base_uri": "https://localhost:8080/"
        },
        "id": "_JMpgKq2VjSQ",
        "outputId": "0e7bc43e-db2a-4810-daf9-2e3fff8e8d9e"
      },
      "source": [
        "np.arange(7, 71, 5) # (arg=> min_lim, max_lim(exclusive), step_size) generate all numbers btw 7, 71 with diff 7(step_size) in btw "
      ],
      "execution_count": null,
      "outputs": [
        {
          "output_type": "execute_result",
          "data": {
            "text/plain": [
              "array([ 7, 12, 17, 22, 27, 32, 37, 42, 47, 52, 57, 62, 67])"
            ]
          },
          "metadata": {
            "tags": []
          },
          "execution_count": 36
        }
      ]
    },
    {
      "cell_type": "code",
      "metadata": {
        "colab": {
          "base_uri": "https://localhost:8080/"
        },
        "id": "CxbxKHUFVxSe",
        "outputId": "0918d14d-99c0-4d1f-be7c-043d8874ac47"
      },
      "source": [
        "np.linspace(7, 70, 10) #(arg=> min_lim, max_lim, number of points) 10 points at linear distance between 7 and 70"
      ],
      "execution_count": null,
      "outputs": [
        {
          "output_type": "execute_result",
          "data": {
            "text/plain": [
              "array([ 7., 14., 21., 28., 35., 42., 49., 56., 63., 70.])"
            ]
          },
          "metadata": {
            "tags": []
          },
          "execution_count": 37
        }
      ]
    },
    {
      "cell_type": "code",
      "metadata": {
        "colab": {
          "base_uri": "https://localhost:8080/"
        },
        "id": "FATWDHa4WaB9",
        "outputId": "5eeba168-3ab2-4311-b85a-b12ea1d91af8"
      },
      "source": [
        "np.array([True, False, False, True])"
      ],
      "execution_count": null,
      "outputs": [
        {
          "output_type": "execute_result",
          "data": {
            "text/plain": [
              "array([ True, False, False,  True])"
            ]
          },
          "metadata": {
            "tags": []
          },
          "execution_count": 38
        }
      ]
    },
    {
      "cell_type": "code",
      "metadata": {
        "id": "E5X9-fuAWoEQ"
      },
      "source": [
        "str_arr = np.array(['1.2','2.3','4.5','9.8'])"
      ],
      "execution_count": null,
      "outputs": []
    },
    {
      "cell_type": "code",
      "metadata": {
        "id": "04iLxkpuWxhA"
      },
      "source": [
        "arr = np.array(str_arr, dtype='float') # converting string array to float type if possible"
      ],
      "execution_count": null,
      "outputs": []
    },
    {
      "cell_type": "code",
      "metadata": {
        "colab": {
          "base_uri": "https://localhost:8080/"
        },
        "id": "738QwGXKW4i9",
        "outputId": "7e7fa8b1-cd15-46be-c67e-28ef9b5eded2"
      },
      "source": [
        "arr"
      ],
      "execution_count": null,
      "outputs": [
        {
          "output_type": "execute_result",
          "data": {
            "text/plain": [
              "array([1.2, 2.3, 4.5, 9.8])"
            ]
          },
          "metadata": {
            "tags": []
          },
          "execution_count": 41
        }
      ]
    },
    {
      "cell_type": "code",
      "metadata": {
        "id": "3Kz6u1uSW7C9"
      },
      "source": [
        "arr3d = np.array([\n",
        "                  [\n",
        "                   [1,2,3],\n",
        "                   [4,5,6]\n",
        "                  ],\n",
        "                  [\n",
        "                   [7,8,9],\n",
        "                   [10,11,12]\n",
        "                  ]\n",
        "])"
      ],
      "execution_count": null,
      "outputs": []
    },
    {
      "cell_type": "code",
      "metadata": {
        "colab": {
          "base_uri": "https://localhost:8080/"
        },
        "id": "iscPocsUX8Vg",
        "outputId": "d5344d7a-895b-458d-84a0-5c87369e8547"
      },
      "source": [
        "arr3d[0,1,2]"
      ],
      "execution_count": null,
      "outputs": [
        {
          "output_type": "execute_result",
          "data": {
            "text/plain": [
              "6"
            ]
          },
          "metadata": {
            "tags": []
          },
          "execution_count": 43
        }
      ]
    },
    {
      "cell_type": "code",
      "metadata": {
        "colab": {
          "base_uri": "https://localhost:8080/"
        },
        "id": "xhjczEcQZ2-P",
        "outputId": "6f4a6d1d-fe8b-4e69-d2da-b26c47364bf7"
      },
      "source": [
        "arr3d[1,0,2]"
      ],
      "execution_count": null,
      "outputs": [
        {
          "output_type": "execute_result",
          "data": {
            "text/plain": [
              "9"
            ]
          },
          "metadata": {
            "tags": []
          },
          "execution_count": 44
        }
      ]
    },
    {
      "cell_type": "code",
      "metadata": {
        "colab": {
          "base_uri": "https://localhost:8080/"
        },
        "id": "RtMAFHrWZ6g_",
        "outputId": "f25ae569-d217-44bc-c480-efbd6e389d49"
      },
      "source": [
        "arr3d[0,:,:]"
      ],
      "execution_count": null,
      "outputs": [
        {
          "output_type": "execute_result",
          "data": {
            "text/plain": [
              "array([[1, 2, 3],\n",
              "       [4, 5, 6]])"
            ]
          },
          "metadata": {
            "tags": []
          },
          "execution_count": 45
        }
      ]
    },
    {
      "cell_type": "code",
      "metadata": {
        "colab": {
          "base_uri": "https://localhost:8080/"
        },
        "id": "vWsRrXCaaD_v",
        "outputId": "b7dcb156-6e13-40c7-edba-4bdd5a3ebaa6"
      },
      "source": [
        "arr3d[1,:,0:2]"
      ],
      "execution_count": null,
      "outputs": [
        {
          "output_type": "execute_result",
          "data": {
            "text/plain": [
              "array([[ 7,  8],\n",
              "       [10, 11]])"
            ]
          },
          "metadata": {
            "tags": []
          },
          "execution_count": 46
        }
      ]
    },
    {
      "cell_type": "code",
      "metadata": {
        "colab": {
          "base_uri": "https://localhost:8080/"
        },
        "id": "6tu-wjRsaMtv",
        "outputId": "412cb4e4-1d63-43f2-aae3-c320aaa062cd"
      },
      "source": [
        "# fancy indexing => we want all the numbers that is divisible by 2 .. we can do this by iterating but we use numpy feature\n",
        "arr3d % 2 == 0"
      ],
      "execution_count": null,
      "outputs": [
        {
          "output_type": "execute_result",
          "data": {
            "text/plain": [
              "array([[[False,  True, False],\n",
              "        [ True, False,  True]],\n",
              "\n",
              "       [[False,  True, False],\n",
              "        [ True, False,  True]]])"
            ]
          },
          "metadata": {
            "tags": []
          },
          "execution_count": 47
        }
      ]
    },
    {
      "cell_type": "code",
      "metadata": {
        "colab": {
          "base_uri": "https://localhost:8080/"
        },
        "id": "SZAQ2jKXagvm",
        "outputId": "0bed7ebe-48dc-43e2-eb6f-f4e87eb48511"
      },
      "source": [
        "arr3d[arr3d % 2 == 0] # given a 1d array of all the numbers % 2"
      ],
      "execution_count": null,
      "outputs": [
        {
          "output_type": "execute_result",
          "data": {
            "text/plain": [
              "array([ 2,  4,  6,  8, 10, 12])"
            ]
          },
          "metadata": {
            "tags": []
          },
          "execution_count": 48
        }
      ]
    },
    {
      "cell_type": "code",
      "metadata": {
        "colab": {
          "base_uri": "https://localhost:8080/"
        },
        "id": "-1e4X3kGaqv-",
        "outputId": "6a6e3b9b-471d-4f29-ec2f-8c09c6826a02"
      },
      "source": [
        "arr_slice = arr3d[:,:,0:2]\n",
        "arr_slice"
      ],
      "execution_count": null,
      "outputs": [
        {
          "output_type": "execute_result",
          "data": {
            "text/plain": [
              "array([[[ 1,  2],\n",
              "        [ 4,  5]],\n",
              "\n",
              "       [[ 7,  8],\n",
              "        [10, 11]]])"
            ]
          },
          "metadata": {
            "tags": []
          },
          "execution_count": 49
        }
      ]
    },
    {
      "cell_type": "code",
      "metadata": {
        "id": "jbiD8r5sbldO"
      },
      "source": [
        "arr_slice[0,0,0] = 1729"
      ],
      "execution_count": null,
      "outputs": []
    },
    {
      "cell_type": "code",
      "metadata": {
        "colab": {
          "base_uri": "https://localhost:8080/"
        },
        "id": "Meft98ldbr8u",
        "outputId": "f069c11a-d146-4319-d50e-e32fad496611"
      },
      "source": [
        "arr_slice"
      ],
      "execution_count": null,
      "outputs": [
        {
          "output_type": "execute_result",
          "data": {
            "text/plain": [
              "array([[[1729,    2],\n",
              "        [   4,    5]],\n",
              "\n",
              "       [[   7,    8],\n",
              "        [  10,   11]]])"
            ]
          },
          "metadata": {
            "tags": []
          },
          "execution_count": 51
        }
      ]
    },
    {
      "cell_type": "code",
      "metadata": {
        "colab": {
          "base_uri": "https://localhost:8080/"
        },
        "id": "di9J2zeHbuKe",
        "outputId": "e100de8c-1859-4bbb-91c3-d35c609cbaa1"
      },
      "source": [
        "arr3d # arr3d(original array also gets changed) .. shallow copy, only refrence is copied"
      ],
      "execution_count": null,
      "outputs": [
        {
          "output_type": "execute_result",
          "data": {
            "text/plain": [
              "array([[[1729,    2,    3],\n",
              "        [   4,    5,    6]],\n",
              "\n",
              "       [[   7,    8,    9],\n",
              "        [  10,   11,   12]]])"
            ]
          },
          "metadata": {
            "tags": []
          },
          "execution_count": 52
        }
      ]
    },
    {
      "cell_type": "code",
      "metadata": {
        "id": "LG0EZ33vbvfu"
      },
      "source": [
        "arr_slice = np.copy(arr3d) # deep copy.. values get copied"
      ],
      "execution_count": null,
      "outputs": []
    },
    {
      "cell_type": "code",
      "metadata": {
        "id": "lxCC1psdcFE-"
      },
      "source": [
        "arr_slice[0,0,0] = 1"
      ],
      "execution_count": null,
      "outputs": []
    },
    {
      "cell_type": "code",
      "metadata": {
        "colab": {
          "base_uri": "https://localhost:8080/"
        },
        "id": "-bnJjw29cHuu",
        "outputId": "8025cd2b-b388-4803-8871-2518c8632b7e"
      },
      "source": [
        "arr_slice"
      ],
      "execution_count": null,
      "outputs": [
        {
          "output_type": "execute_result",
          "data": {
            "text/plain": [
              "array([[[ 1,  2,  3],\n",
              "        [ 4,  5,  6]],\n",
              "\n",
              "       [[ 7,  8,  9],\n",
              "        [10, 11, 12]]])"
            ]
          },
          "metadata": {
            "tags": []
          },
          "execution_count": 55
        }
      ]
    },
    {
      "cell_type": "code",
      "metadata": {
        "colab": {
          "base_uri": "https://localhost:8080/"
        },
        "id": "gDZYgHiecKd-",
        "outputId": "d18c4ab0-fd8d-4d3b-8769-3669bd20b01e"
      },
      "source": [
        "arr3d # org arr not changed"
      ],
      "execution_count": null,
      "outputs": [
        {
          "output_type": "execute_result",
          "data": {
            "text/plain": [
              "array([[[1729,    2,    3],\n",
              "        [   4,    5,    6]],\n",
              "\n",
              "       [[   7,    8,    9],\n",
              "        [  10,   11,   12]]])"
            ]
          },
          "metadata": {
            "tags": []
          },
          "execution_count": 56
        }
      ]
    },
    {
      "cell_type": "code",
      "metadata": {
        "id": "1nP3sxp9cK_e"
      },
      "source": [
        "arr = np.random.randint(0, 10, (5))"
      ],
      "execution_count": null,
      "outputs": []
    },
    {
      "cell_type": "code",
      "metadata": {
        "colab": {
          "base_uri": "https://localhost:8080/"
        },
        "id": "q7PfimxscwI-",
        "outputId": "9facb5e8-87b2-4fa8-c5bf-d675b7602461"
      },
      "source": [
        "arr"
      ],
      "execution_count": null,
      "outputs": [
        {
          "output_type": "execute_result",
          "data": {
            "text/plain": [
              "array([5, 7, 7, 3, 1])"
            ]
          },
          "metadata": {
            "tags": []
          },
          "execution_count": 58
        }
      ]
    },
    {
      "cell_type": "code",
      "metadata": {
        "id": "T_Gtd2chcwdO"
      },
      "source": [
        "my_indices = [1,3,4]"
      ],
      "execution_count": null,
      "outputs": []
    },
    {
      "cell_type": "code",
      "metadata": {
        "colab": {
          "base_uri": "https://localhost:8080/"
        },
        "id": "ulryQh9Xc-pe",
        "outputId": "1edc3780-3171-4641-8f59-8fa0f16b9bae"
      },
      "source": [
        "arr[my_indices] # treat elements of list(my_indices) as indices of array"
      ],
      "execution_count": null,
      "outputs": [
        {
          "output_type": "execute_result",
          "data": {
            "text/plain": [
              "array([7, 3, 1])"
            ]
          },
          "metadata": {
            "tags": []
          },
          "execution_count": 60
        }
      ]
    },
    {
      "cell_type": "markdown",
      "metadata": {
        "id": "0Li6Z8FyfV87"
      },
      "source": [
        "#Numpy Operations"
      ]
    },
    {
      "cell_type": "code",
      "metadata": {
        "id": "XiOKGrdTdAau"
      },
      "source": [
        "arr1 = np.random.rand(3, 4)\n",
        "arr2 = np.random.rand(3, 4)"
      ],
      "execution_count": null,
      "outputs": []
    },
    {
      "cell_type": "code",
      "metadata": {
        "colab": {
          "base_uri": "https://localhost:8080/"
        },
        "id": "Xs5PBWNxgAGd",
        "outputId": "32c56fa5-d056-4db0-c1ca-0fe2dea2080e"
      },
      "source": [
        "arr1"
      ],
      "execution_count": null,
      "outputs": [
        {
          "output_type": "execute_result",
          "data": {
            "text/plain": [
              "array([[0.17867717, 0.94945474, 0.04107655, 0.9875363 ],\n",
              "       [0.56199973, 0.17688714, 0.22048363, 0.57653855],\n",
              "       [0.85156955, 0.79368835, 0.27388781, 0.41071886]])"
            ]
          },
          "metadata": {
            "tags": []
          },
          "execution_count": 111
        }
      ]
    },
    {
      "cell_type": "code",
      "metadata": {
        "colab": {
          "base_uri": "https://localhost:8080/"
        },
        "id": "O17zmHdOgBdv",
        "outputId": "b83663ca-0777-45fc-aa34-06b25cf54a21"
      },
      "source": [
        "arr2"
      ],
      "execution_count": null,
      "outputs": [
        {
          "output_type": "execute_result",
          "data": {
            "text/plain": [
              "array([[0.03668468, 0.22417465, 0.00721436, 0.96278409],\n",
              "       [0.3406023 , 0.96259724, 0.13667196, 0.01250904],\n",
              "       [0.69545576, 0.69856851, 0.69489521, 0.04649735]])"
            ]
          },
          "metadata": {
            "tags": []
          },
          "execution_count": 112
        }
      ]
    },
    {
      "cell_type": "code",
      "metadata": {
        "colab": {
          "base_uri": "https://localhost:8080/"
        },
        "id": "IclK1Npgffid",
        "outputId": "6cab2009-9a11-4553-9282-331209a7c0bb"
      },
      "source": [
        "arr1 + arr2 # pointwise addition"
      ],
      "execution_count": null,
      "outputs": [
        {
          "output_type": "execute_result",
          "data": {
            "text/plain": [
              "array([[0.21536185, 1.17362939, 0.04829091, 1.9503204 ],\n",
              "       [0.90260203, 1.13948438, 0.35715559, 0.58904759],\n",
              "       [1.54702531, 1.49225686, 0.96878302, 0.45721621]])"
            ]
          },
          "metadata": {
            "tags": []
          },
          "execution_count": 113
        }
      ]
    },
    {
      "cell_type": "code",
      "metadata": {
        "colab": {
          "base_uri": "https://localhost:8080/"
        },
        "id": "PlVu5M-2fjJ9",
        "outputId": "4411f621-79e3-4bd2-b688-c8355771f352"
      },
      "source": [
        "arr1 - arr2 # pointwise subtration"
      ],
      "execution_count": null,
      "outputs": [
        {
          "output_type": "execute_result",
          "data": {
            "text/plain": [
              "array([[ 0.14199248,  0.72528008,  0.03386218,  0.02475221],\n",
              "       [ 0.22139743, -0.78571011,  0.08381167,  0.56402952],\n",
              "       [ 0.15611379,  0.09511985, -0.4210074 ,  0.36422152]])"
            ]
          },
          "metadata": {
            "tags": []
          },
          "execution_count": 114
        }
      ]
    },
    {
      "cell_type": "code",
      "metadata": {
        "colab": {
          "base_uri": "https://localhost:8080/"
        },
        "id": "GaUUwBkRfkzt",
        "outputId": "63db55db-1c33-4247-c6ef-acc3e1bffc68"
      },
      "source": [
        "arr1 * arr2 # pointwise multipliation"
      ],
      "execution_count": null,
      "outputs": [
        {
          "output_type": "execute_result",
          "data": {
            "text/plain": [
              "array([[6.55471536e-03, 2.12843687e-01, 2.96341055e-04, 9.50784247e-01],\n",
              "       [1.91418403e-01, 1.70271070e-01, 3.01339297e-02, 7.21194173e-03],\n",
              "       [5.92228947e-01, 5.54445687e-01, 1.90323330e-01, 1.90973371e-02]])"
            ]
          },
          "metadata": {
            "tags": []
          },
          "execution_count": 115
        }
      ]
    },
    {
      "cell_type": "code",
      "metadata": {
        "colab": {
          "base_uri": "https://localhost:8080/"
        },
        "id": "7_RX7QGtfmVu",
        "outputId": "e8b6416b-6934-4dc0-cbd5-7985ba9e404b"
      },
      "source": [
        "arr1 / arr2 # pointwise division"
      ],
      "execution_count": null,
      "outputs": [
        {
          "output_type": "execute_result",
          "data": {
            "text/plain": [
              "array([[ 4.87062032,  4.23533489,  5.69371875,  1.02570899],\n",
              "       [ 1.6500174 ,  0.18376028,  1.61323239, 46.08976563],\n",
              "       [ 1.22447696,  1.13616395,  0.39414261,  8.83316792]])"
            ]
          },
          "metadata": {
            "tags": []
          },
          "execution_count": 116
        }
      ]
    },
    {
      "cell_type": "code",
      "metadata": {
        "colab": {
          "base_uri": "https://localhost:8080/"
        },
        "id": "X7d1R5czfng9",
        "outputId": "0870de25-7ecc-449e-a899-50fa9e9b478c"
      },
      "source": [
        "np.exp(arr1)"
      ],
      "execution_count": null,
      "outputs": [
        {
          "output_type": "execute_result",
          "data": {
            "text/plain": [
              "array([[1.19563469, 2.58430015, 1.04193186, 2.68461225],\n",
              "       [1.75417687, 1.19349638, 1.24667952, 1.77986684],\n",
              "       [2.34332193, 2.21153834, 1.31506726, 1.50790137]])"
            ]
          },
          "metadata": {
            "tags": []
          },
          "execution_count": 117
        }
      ]
    },
    {
      "cell_type": "code",
      "metadata": {
        "colab": {
          "base_uri": "https://localhost:8080/"
        },
        "id": "U_sWrc_Lf5vt",
        "outputId": "71ed328f-3b80-4b47-f452-cc12970a830e"
      },
      "source": [
        "np.log(arr1)"
      ],
      "execution_count": null,
      "outputs": [
        {
          "output_type": "execute_result",
          "data": {
            "text/plain": [
              "array([[-1.72217464, -0.05186742, -3.19231798, -0.01254202],\n",
              "       [-0.57625391, -1.73224339, -1.51193182, -0.55071307],\n",
              "       [-0.1606741 , -0.2310644 , -1.29503669, -0.88984633]])"
            ]
          },
          "metadata": {
            "tags": []
          },
          "execution_count": 118
        }
      ]
    },
    {
      "cell_type": "code",
      "metadata": {
        "colab": {
          "base_uri": "https://localhost:8080/"
        },
        "id": "SV14FrOOf8N8",
        "outputId": "ec87bc55-5c6b-4dfa-c668-a0bf3cef8599"
      },
      "source": [
        "np.log(np.exp(arr1))"
      ],
      "execution_count": null,
      "outputs": [
        {
          "output_type": "execute_result",
          "data": {
            "text/plain": [
              "array([[0.17867717, 0.94945474, 0.04107655, 0.9875363 ],\n",
              "       [0.56199973, 0.17688714, 0.22048363, 0.57653855],\n",
              "       [0.85156955, 0.79368835, 0.27388781, 0.41071886]])"
            ]
          },
          "metadata": {
            "tags": []
          },
          "execution_count": 119
        }
      ]
    },
    {
      "cell_type": "code",
      "metadata": {
        "id": "eRFwanx_f-Gs"
      },
      "source": [
        "arr_inv = 1 / arr1"
      ],
      "execution_count": null,
      "outputs": []
    },
    {
      "cell_type": "code",
      "metadata": {
        "colab": {
          "base_uri": "https://localhost:8080/"
        },
        "id": "HE9CxYVTgGYN",
        "outputId": "d2f792c1-35a3-4b21-8f40-af664a323d46"
      },
      "source": [
        "arr_inv"
      ],
      "execution_count": null,
      "outputs": [
        {
          "output_type": "execute_result",
          "data": {
            "text/plain": [
              "array([[ 5.59668602,  1.0532361 , 24.34479283,  1.012621  ],\n",
              "       [ 1.77936029,  5.65332233,  4.5354841 ,  1.73448938],\n",
              "       [ 1.1743022 ,  1.25994037,  3.65112995,  2.43475547]])"
            ]
          },
          "metadata": {
            "tags": []
          },
          "execution_count": 121
        }
      ]
    },
    {
      "cell_type": "code",
      "metadata": {
        "id": "VMEzZ_YIgIQs"
      },
      "source": [
        "arr = np.zeros((3, 4))"
      ],
      "execution_count": null,
      "outputs": []
    },
    {
      "cell_type": "code",
      "metadata": {
        "colab": {
          "base_uri": "https://localhost:8080/"
        },
        "id": "A_iX6WwygUTt",
        "outputId": "02f8a958-2bf7-452e-cb41-b1fc02be8f52"
      },
      "source": [
        "arr_inf = 1 / arr # wont throw 0 div error .. it gives output as infinity"
      ],
      "execution_count": null,
      "outputs": [
        {
          "output_type": "stream",
          "text": [
            "/usr/local/lib/python3.7/dist-packages/ipykernel_launcher.py:1: RuntimeWarning: divide by zero encountered in true_divide\n",
            "  \"\"\"Entry point for launching an IPython kernel.\n"
          ],
          "name": "stderr"
        }
      ]
    },
    {
      "cell_type": "code",
      "metadata": {
        "colab": {
          "base_uri": "https://localhost:8080/"
        },
        "id": "4cd6MPaTgXQt",
        "outputId": "abc675f0-05f8-4f1c-e6a9-d574a8a1e4ec"
      },
      "source": [
        "arr_inf"
      ],
      "execution_count": null,
      "outputs": [
        {
          "output_type": "execute_result",
          "data": {
            "text/plain": [
              "array([[inf, inf, inf, inf],\n",
              "       [inf, inf, inf, inf],\n",
              "       [inf, inf, inf, inf]])"
            ]
          },
          "metadata": {
            "tags": []
          },
          "execution_count": 130
        }
      ]
    },
    {
      "cell_type": "code",
      "metadata": {
        "colab": {
          "base_uri": "https://localhost:8080/"
        },
        "id": "ITk43KBMgZsc",
        "outputId": "b1e32160-4624-4757-c05b-fe67e95e79ad"
      },
      "source": [
        "np.isinf(arr_inf[0, 0]) # function to check whether value at particular idx is infinity or not "
      ],
      "execution_count": null,
      "outputs": [
        {
          "output_type": "execute_result",
          "data": {
            "text/plain": [
              "True"
            ]
          },
          "metadata": {
            "tags": []
          },
          "execution_count": 134
        }
      ]
    },
    {
      "cell_type": "code",
      "metadata": {
        "colab": {
          "base_uri": "https://localhost:8080/"
        },
        "id": "sN88TgmQgvJN",
        "outputId": "e0eb9c47-9d73-4fa4-c69f-7228082e3588"
      },
      "source": [
        "np.isinf(arr_inf) # vectorized form of func"
      ],
      "execution_count": null,
      "outputs": [
        {
          "output_type": "execute_result",
          "data": {
            "text/plain": [
              "array([[ True,  True,  True,  True],\n",
              "       [ True,  True,  True,  True],\n",
              "       [ True,  True,  True,  True]])"
            ]
          },
          "metadata": {
            "tags": []
          },
          "execution_count": 135
        }
      ]
    },
    {
      "cell_type": "markdown",
      "metadata": {
        "id": "pv0e19SliO-d"
      },
      "source": [
        "#Exercise on finding number of points outside n-dim sphere"
      ]
    },
    {
      "cell_type": "code",
      "metadata": {
        "id": "n-IkJn8DiYQ7"
      },
      "source": [
        "ndim = 2"
      ],
      "execution_count": null,
      "outputs": []
    },
    {
      "cell_type": "code",
      "metadata": {
        "id": "JOjWE_6imaY4"
      },
      "source": [
        "npoints = 1000000"
      ],
      "execution_count": null,
      "outputs": []
    },
    {
      "cell_type": "code",
      "metadata": {
        "id": "RIqkyznRmcxo"
      },
      "source": [
        "points = np.random.rand(npoints, ndim) # random array of size npoints*ndim"
      ],
      "execution_count": null,
      "outputs": []
    },
    {
      "cell_type": "code",
      "metadata": {
        "id": "g_N48dFmmsRK"
      },
      "source": [
        "dfo = np.zeros((npoints,1))\n",
        "outside_points = 0"
      ],
      "execution_count": null,
      "outputs": []
    },
    {
      "cell_type": "code",
      "metadata": {
        "colab": {
          "base_uri": "https://localhost:8080/"
        },
        "id": "kwUTAp1NnBC6",
        "outputId": "fd57a386-9825-4243-8948-a6e7facbb1a2"
      },
      "source": [
        "# iteration is taking lot of time even if we are using numpy arr\n",
        "%%time\n",
        "for i in range(npoints):\n",
        "  for j in range(ndim):\n",
        "    dfo[i] += points[i,j] ** 2\n",
        "  dfo[i] = np.sqrt(dfo[i])\n",
        "  if dfo[i] > 1:\n",
        "    outside_points += 1"
      ],
      "execution_count": null,
      "outputs": [
        {
          "output_type": "stream",
          "text": [
            "CPU times: user 14.9 s, sys: 2.02 s, total: 16.9 s\n",
            "Wall time: 14.8 s\n"
          ],
          "name": "stdout"
        }
      ]
    },
    {
      "cell_type": "code",
      "metadata": {
        "colab": {
          "base_uri": "https://localhost:8080/"
        },
        "id": "S4apS_AhnekN",
        "outputId": "28fa6cc4-0d61-4c40-a81a-347b55f7bd3a"
      },
      "source": [
        "print(\"Fraction of points outside: \", outside_points/npoints)"
      ],
      "execution_count": null,
      "outputs": [
        {
          "output_type": "stream",
          "text": [
            "Fraction of points outside:  0.214433\n"
          ],
          "name": "stdout"
        }
      ]
    },
    {
      "cell_type": "code",
      "metadata": {
        "colab": {
          "base_uri": "https://localhost:8080/"
        },
        "id": "A1ttQpVbnor9",
        "outputId": "7a2dac80-a15e-4b20-ca30-1b2b3fd00ba3"
      },
      "source": [
        "%%time\n",
        "sqr_points = points * points\n",
        "dfo = np.sqrt(np.sum(sqr_points, axis = 1))\n",
        "outside_points = np.sum(dfo > 1)"
      ],
      "execution_count": null,
      "outputs": [
        {
          "output_type": "stream",
          "text": [
            "CPU times: user 38.7 ms, sys: 0 ns, total: 38.7 ms\n",
            "Wall time: 36.8 ms\n"
          ],
          "name": "stdout"
        }
      ]
    },
    {
      "cell_type": "code",
      "metadata": {
        "colab": {
          "base_uri": "https://localhost:8080/"
        },
        "id": "BvLZ6Mcbotw6",
        "outputId": "b1d1f0d2-7afd-4968-e83b-3593d5ec1391"
      },
      "source": [
        "print(\"Fraction of points outside: \", outside_points/npoints)"
      ],
      "execution_count": null,
      "outputs": [
        {
          "output_type": "stream",
          "text": [
            "Fraction of points outside:  0.214433\n"
          ],
          "name": "stdout"
        }
      ]
    },
    {
      "cell_type": "code",
      "metadata": {
        "colab": {
          "base_uri": "https://localhost:8080/"
        },
        "id": "YePpx2dGoujq",
        "outputId": "014aeb4e-d3e1-4dbd-a2b6-247d293290e6"
      },
      "source": [
        "%%time\n",
        "outside_points = np.sum(np.sqrt(np.sum(points * points, axis = 1)) > 1) # one line code"
      ],
      "execution_count": null,
      "outputs": [
        {
          "output_type": "stream",
          "text": [
            "CPU times: user 34.5 ms, sys: 18.5 ms, total: 53 ms\n",
            "Wall time: 58.9 ms\n"
          ],
          "name": "stdout"
        }
      ]
    },
    {
      "cell_type": "code",
      "metadata": {
        "id": "ZJdcPYnFqO3Y"
      },
      "source": [
        "def outside_points_fig(npoints, ndim):\n",
        "  points = np.random.rand(npoints, ndim);\n",
        "  return np.sum(np.sqrt(np.sum(points*points, axis = 1)) > 1)/npoints"
      ],
      "execution_count": null,
      "outputs": []
    },
    {
      "cell_type": "code",
      "metadata": {
        "colab": {
          "base_uri": "https://localhost:8080/"
        },
        "id": "fXwduSAvrk8p",
        "outputId": "b0e15c20-0656-40f1-d3dd-bda2ec27c807"
      },
      "source": [
        "outside_points_fig(100000, 2)"
      ],
      "execution_count": null,
      "outputs": [
        {
          "output_type": "execute_result",
          "data": {
            "text/plain": [
              "0.21548"
            ]
          },
          "metadata": {
            "tags": []
          },
          "execution_count": 90
        }
      ]
    },
    {
      "cell_type": "code",
      "metadata": {
        "colab": {
          "base_uri": "https://localhost:8080/"
        },
        "id": "aqJ6up9wrniU",
        "outputId": "b6638a3e-0116-417e-b0b5-b13347b48393"
      },
      "source": [
        "for i in range(2, 11):\n",
        "  print(i, outside_points_fig(100000, i)) # i => ndim"
      ],
      "execution_count": null,
      "outputs": [
        {
          "output_type": "stream",
          "text": [
            "2 0.21137\n",
            "3 0.4719\n",
            "4 0.69178\n",
            "5 0.83553\n",
            "6 0.91914\n",
            "7 0.96291\n",
            "8 0.98357\n",
            "9 0.99333\n",
            "10 0.99766\n"
          ],
          "name": "stdout"
        }
      ]
    },
    {
      "cell_type": "markdown",
      "metadata": {
        "id": "JIZDcwWrox9k"
      },
      "source": [
        "#BroadCasting"
      ]
    },
    {
      "cell_type": "code",
      "metadata": {
        "id": "amUEmlKxo1Wb"
      },
      "source": [
        "arr1 = np.arange(6)"
      ],
      "execution_count": null,
      "outputs": []
    },
    {
      "cell_type": "code",
      "metadata": {
        "colab": {
          "base_uri": "https://localhost:8080/"
        },
        "id": "yBErM6jTqnxD",
        "outputId": "97db0e87-91d9-4785-c215-70c823776d16"
      },
      "source": [
        "arr1 = arr1.reshape((3,2))\n",
        "arr1"
      ],
      "execution_count": null,
      "outputs": [
        {
          "output_type": "execute_result",
          "data": {
            "text/plain": [
              "array([[0, 1],\n",
              "       [2, 3],\n",
              "       [4, 5]])"
            ]
          },
          "metadata": {
            "tags": []
          },
          "execution_count": 22
        }
      ]
    },
    {
      "cell_type": "code",
      "metadata": {
        "colab": {
          "base_uri": "https://localhost:8080/"
        },
        "id": "zJTkH2FUrs6y",
        "outputId": "6ac14850-dff0-4fca-a6f2-a0de2ba4b002"
      },
      "source": [
        "arr2 = np.arange(6).reshape((3,2))\n",
        "arr2"
      ],
      "execution_count": null,
      "outputs": [
        {
          "output_type": "execute_result",
          "data": {
            "text/plain": [
              "array([[0, 1],\n",
              "       [2, 3],\n",
              "       [4, 5]])"
            ]
          },
          "metadata": {
            "tags": []
          },
          "execution_count": 23
        }
      ]
    },
    {
      "cell_type": "code",
      "metadata": {
        "colab": {
          "base_uri": "https://localhost:8080/"
        },
        "id": "Ps4LqXLwsPLL",
        "outputId": "ea5e06d4-666e-45a3-f9f8-8856f0b9885c"
      },
      "source": [
        "print(arr1 + arr2)"
      ],
      "execution_count": null,
      "outputs": [
        {
          "output_type": "stream",
          "text": [
            "[[ 0  2]\n",
            " [ 4  6]\n",
            " [ 8 10]]\n"
          ],
          "name": "stdout"
        }
      ]
    },
    {
      "cell_type": "code",
      "metadata": {
        "colab": {
          "base_uri": "https://localhost:8080/"
        },
        "id": "vLYZ_R_9sSEL",
        "outputId": "570b899e-7636-4871-9e65-9a36c36a9067"
      },
      "source": [
        "arr2[0].reshape((1,2))"
      ],
      "execution_count": null,
      "outputs": [
        {
          "output_type": "execute_result",
          "data": {
            "text/plain": [
              "array([[0, 1]])"
            ]
          },
          "metadata": {
            "tags": []
          },
          "execution_count": 31
        }
      ]
    },
    {
      "cell_type": "code",
      "metadata": {
        "colab": {
          "base_uri": "https://localhost:8080/"
        },
        "id": "CBMzueE0sYtr",
        "outputId": "466a6e26-8772-4d4d-91b3-e1bb82068f86"
      },
      "source": [
        "# arr2[0] is 1*2 and arr1 is 3*2.. hence arr2[0] will be broadcasted to a shape 3*2 and the values gets replicated along the 0th(changed) dim\n",
        "arr1 + arr2[0].reshape((1,2)) "
      ],
      "execution_count": null,
      "outputs": [
        {
          "output_type": "execute_result",
          "data": {
            "text/plain": [
              "array([[0, 2],\n",
              "       [2, 4],\n",
              "       [4, 6]])"
            ]
          },
          "metadata": {
            "tags": []
          },
          "execution_count": 36
        }
      ]
    },
    {
      "cell_type": "code",
      "metadata": {
        "colab": {
          "base_uri": "https://localhost:8080/"
        },
        "id": "RkUs4s4hss-q",
        "outputId": "c708a47a-7654-4d80-c7d6-67ea616ca204"
      },
      "source": [
        "arr1 = np.arange(24)\n",
        "arr1 = arr1.reshape((2,3,4))\n",
        "arr1"
      ],
      "execution_count": null,
      "outputs": [
        {
          "output_type": "execute_result",
          "data": {
            "text/plain": [
              "array([[[ 0,  1,  2,  3],\n",
              "        [ 4,  5,  6,  7],\n",
              "        [ 8,  9, 10, 11]],\n",
              "\n",
              "       [[12, 13, 14, 15],\n",
              "        [16, 17, 18, 19],\n",
              "        [20, 21, 22, 23]]])"
            ]
          },
          "metadata": {
            "tags": []
          },
          "execution_count": 38
        }
      ]
    },
    {
      "cell_type": "code",
      "metadata": {
        "colab": {
          "base_uri": "https://localhost:8080/"
        },
        "id": "qXynwywUvawh",
        "outputId": "1becc8d6-fc3f-411a-cd6d-516d9e2f6fbe"
      },
      "source": [
        "arr2 = np.ones((1,4))\n",
        "arr2"
      ],
      "execution_count": null,
      "outputs": [
        {
          "output_type": "execute_result",
          "data": {
            "text/plain": [
              "array([[1., 1., 1., 1.]])"
            ]
          },
          "metadata": {
            "tags": []
          },
          "execution_count": 40
        }
      ]
    },
    {
      "cell_type": "code",
      "metadata": {
        "colab": {
          "base_uri": "https://localhost:8080/"
        },
        "id": "AqKP7V6wvhY6",
        "outputId": "456a7862-6882-4804-c7a9-c61a8a272812"
      },
      "source": [
        "arr1 + arr2 # (2,3,4) + (1,4) => (1,4) broadcasted to (2,3,4)"
      ],
      "execution_count": null,
      "outputs": [
        {
          "output_type": "execute_result",
          "data": {
            "text/plain": [
              "array([[[ 1.,  2.,  3.,  4.],\n",
              "        [ 5.,  6.,  7.,  8.],\n",
              "        [ 9., 10., 11., 12.]],\n",
              "\n",
              "       [[13., 14., 15., 16.],\n",
              "        [17., 18., 19., 20.],\n",
              "        [21., 22., 23., 24.]]])"
            ]
          },
          "metadata": {
            "tags": []
          },
          "execution_count": 42
        }
      ]
    },
    {
      "cell_type": "code",
      "metadata": {
        "colab": {
          "base_uri": "https://localhost:8080/"
        },
        "id": "VGfvSPsgvkSp",
        "outputId": "001620a9-6c2d-41aa-afc5-84662ad0955c"
      },
      "source": [
        "arr1 = np.arange(4)\n",
        "arr2 = np.arange(5)\n",
        "print(arr1.shape, arr2.shape)"
      ],
      "execution_count": null,
      "outputs": [
        {
          "output_type": "stream",
          "text": [
            "(4,) (5,)\n"
          ],
          "name": "stdout"
        }
      ]
    },
    {
      "cell_type": "code",
      "metadata": {
        "id": "OGZmvADOwBUq"
      },
      "source": [
        "#arr1 + arr2 # will throw an error .. as these shapes cannot be mapped and broadcasted"
      ],
      "execution_count": null,
      "outputs": []
    },
    {
      "cell_type": "code",
      "metadata": {
        "colab": {
          "base_uri": "https://localhost:8080/"
        },
        "id": "Z0uwa8txwItK",
        "outputId": "dfd5eaa1-2160-4863-8f92-fbc938a364db"
      },
      "source": [
        "arr1.reshape((4,1)) + arr2 # (4,1) + (1,5) => both arrays gets braodcasted to (4,5) and gets replicatec accordingly"
      ],
      "execution_count": null,
      "outputs": [
        {
          "output_type": "execute_result",
          "data": {
            "text/plain": [
              "array([[0, 1, 2, 3, 4],\n",
              "       [1, 2, 3, 4, 5],\n",
              "       [2, 3, 4, 5, 6],\n",
              "       [3, 4, 5, 6, 7]])"
            ]
          },
          "metadata": {
            "tags": []
          },
          "execution_count": 49
        }
      ]
    },
    {
      "cell_type": "markdown",
      "metadata": {
        "id": "x5IQQLjkwuJJ"
      },
      "source": [
        "#File Handling"
      ]
    },
    {
      "cell_type": "code",
      "metadata": {
        "colab": {
          "base_uri": "https://localhost:8080/",
          "height": 69
        },
        "id": "oazhmcT-2z9_",
        "outputId": "c639907f-a079-401c-f597-0db3dd976e6f"
      },
      "source": [
        "\"\"\"\n",
        "    Remember that numpy can only read numerical data and not string data .. and as our files planet_small row1 as the name of planets \n",
        "    and col1 as the attributes(size, diamater).. numpy do not read such data .. hence it will throw an error\n",
        "\"\"\""
      ],
      "execution_count": null,
      "outputs": [
        {
          "output_type": "execute_result",
          "data": {
            "application/vnd.google.colaboratory.intrinsic+json": {
              "type": "string"
            },
            "text/plain": [
              "'\\n    Remember that numpy can only read numerical data and not string data .. and as our files planet_small row1 as the name of planets \\n    and col1 as the attributes(size, diamater).. numpy do not read such data .. hence it will throw an error\\n'"
            ]
          },
          "metadata": {
            "tags": []
          },
          "execution_count": 56
        }
      ]
    },
    {
      "cell_type": "code",
      "metadata": {
        "colab": {
          "base_uri": "https://localhost:8080/",
          "height": 306
        },
        "id": "X7CkkRO3wrlR",
        "outputId": "fd87ff64-88de-4812-c89f-b90b39f5794c"
      },
      "source": [
        "planet_small = np.loadtxt(\"planets_small-200320-181217.txt\") "
      ],
      "execution_count": null,
      "outputs": [
        {
          "output_type": "error",
          "ename": "ValueError",
          "evalue": "ignored",
          "traceback": [
            "\u001b[0;31m---------------------------------------------------------------------------\u001b[0m",
            "\u001b[0;31mValueError\u001b[0m                                Traceback (most recent call last)",
            "\u001b[0;32m<ipython-input-65-0fa2810d5bd9>\u001b[0m in \u001b[0;36m<module>\u001b[0;34m()\u001b[0m\n\u001b[0;32m----> 1\u001b[0;31m \u001b[0mplanet_small\u001b[0m \u001b[0;34m=\u001b[0m \u001b[0mnp\u001b[0m\u001b[0;34m.\u001b[0m\u001b[0mloadtxt\u001b[0m\u001b[0;34m(\u001b[0m\u001b[0;34m\"planets_small-200320-181217.txt\"\u001b[0m\u001b[0;34m)\u001b[0m\u001b[0;34m\u001b[0m\u001b[0;34m\u001b[0m\u001b[0m\n\u001b[0m",
            "\u001b[0;32m/usr/local/lib/python3.7/dist-packages/numpy/lib/npyio.py\u001b[0m in \u001b[0;36mloadtxt\u001b[0;34m(fname, dtype, comments, delimiter, converters, skiprows, usecols, unpack, ndmin, encoding, max_rows)\u001b[0m\n\u001b[1;32m   1137\u001b[0m         \u001b[0;31m# converting the data\u001b[0m\u001b[0;34m\u001b[0m\u001b[0;34m\u001b[0m\u001b[0;34m\u001b[0m\u001b[0m\n\u001b[1;32m   1138\u001b[0m         \u001b[0mX\u001b[0m \u001b[0;34m=\u001b[0m \u001b[0;32mNone\u001b[0m\u001b[0;34m\u001b[0m\u001b[0;34m\u001b[0m\u001b[0m\n\u001b[0;32m-> 1139\u001b[0;31m         \u001b[0;32mfor\u001b[0m \u001b[0mx\u001b[0m \u001b[0;32min\u001b[0m \u001b[0mread_data\u001b[0m\u001b[0;34m(\u001b[0m\u001b[0m_loadtxt_chunksize\u001b[0m\u001b[0;34m)\u001b[0m\u001b[0;34m:\u001b[0m\u001b[0;34m\u001b[0m\u001b[0;34m\u001b[0m\u001b[0m\n\u001b[0m\u001b[1;32m   1140\u001b[0m             \u001b[0;32mif\u001b[0m \u001b[0mX\u001b[0m \u001b[0;32mis\u001b[0m \u001b[0;32mNone\u001b[0m\u001b[0;34m:\u001b[0m\u001b[0;34m\u001b[0m\u001b[0;34m\u001b[0m\u001b[0m\n\u001b[1;32m   1141\u001b[0m                 \u001b[0mX\u001b[0m \u001b[0;34m=\u001b[0m \u001b[0mnp\u001b[0m\u001b[0;34m.\u001b[0m\u001b[0marray\u001b[0m\u001b[0;34m(\u001b[0m\u001b[0mx\u001b[0m\u001b[0;34m,\u001b[0m \u001b[0mdtype\u001b[0m\u001b[0;34m)\u001b[0m\u001b[0;34m\u001b[0m\u001b[0;34m\u001b[0m\u001b[0m\n",
            "\u001b[0;32m/usr/local/lib/python3.7/dist-packages/numpy/lib/npyio.py\u001b[0m in \u001b[0;36mread_data\u001b[0;34m(chunk_size)\u001b[0m\n\u001b[1;32m   1065\u001b[0m \u001b[0;34m\u001b[0m\u001b[0m\n\u001b[1;32m   1066\u001b[0m             \u001b[0;31m# Convert each value according to its column and store\u001b[0m\u001b[0;34m\u001b[0m\u001b[0;34m\u001b[0m\u001b[0;34m\u001b[0m\u001b[0m\n\u001b[0;32m-> 1067\u001b[0;31m             \u001b[0mitems\u001b[0m \u001b[0;34m=\u001b[0m \u001b[0;34m[\u001b[0m\u001b[0mconv\u001b[0m\u001b[0;34m(\u001b[0m\u001b[0mval\u001b[0m\u001b[0;34m)\u001b[0m \u001b[0;32mfor\u001b[0m \u001b[0;34m(\u001b[0m\u001b[0mconv\u001b[0m\u001b[0;34m,\u001b[0m \u001b[0mval\u001b[0m\u001b[0;34m)\u001b[0m \u001b[0;32min\u001b[0m \u001b[0mzip\u001b[0m\u001b[0;34m(\u001b[0m\u001b[0mconverters\u001b[0m\u001b[0;34m,\u001b[0m \u001b[0mvals\u001b[0m\u001b[0;34m)\u001b[0m\u001b[0;34m]\u001b[0m\u001b[0;34m\u001b[0m\u001b[0;34m\u001b[0m\u001b[0m\n\u001b[0m\u001b[1;32m   1068\u001b[0m \u001b[0;34m\u001b[0m\u001b[0m\n\u001b[1;32m   1069\u001b[0m             \u001b[0;31m# Then pack it according to the dtype's nesting\u001b[0m\u001b[0;34m\u001b[0m\u001b[0;34m\u001b[0m\u001b[0;34m\u001b[0m\u001b[0m\n",
            "\u001b[0;32m/usr/local/lib/python3.7/dist-packages/numpy/lib/npyio.py\u001b[0m in \u001b[0;36m<listcomp>\u001b[0;34m(.0)\u001b[0m\n\u001b[1;32m   1065\u001b[0m \u001b[0;34m\u001b[0m\u001b[0m\n\u001b[1;32m   1066\u001b[0m             \u001b[0;31m# Convert each value according to its column and store\u001b[0m\u001b[0;34m\u001b[0m\u001b[0;34m\u001b[0m\u001b[0;34m\u001b[0m\u001b[0m\n\u001b[0;32m-> 1067\u001b[0;31m             \u001b[0mitems\u001b[0m \u001b[0;34m=\u001b[0m \u001b[0;34m[\u001b[0m\u001b[0mconv\u001b[0m\u001b[0;34m(\u001b[0m\u001b[0mval\u001b[0m\u001b[0;34m)\u001b[0m \u001b[0;32mfor\u001b[0m \u001b[0;34m(\u001b[0m\u001b[0mconv\u001b[0m\u001b[0;34m,\u001b[0m \u001b[0mval\u001b[0m\u001b[0;34m)\u001b[0m \u001b[0;32min\u001b[0m \u001b[0mzip\u001b[0m\u001b[0;34m(\u001b[0m\u001b[0mconverters\u001b[0m\u001b[0;34m,\u001b[0m \u001b[0mvals\u001b[0m\u001b[0;34m)\u001b[0m\u001b[0;34m]\u001b[0m\u001b[0;34m\u001b[0m\u001b[0;34m\u001b[0m\u001b[0m\n\u001b[0m\u001b[1;32m   1068\u001b[0m \u001b[0;34m\u001b[0m\u001b[0m\n\u001b[1;32m   1069\u001b[0m             \u001b[0;31m# Then pack it according to the dtype's nesting\u001b[0m\u001b[0;34m\u001b[0m\u001b[0;34m\u001b[0m\u001b[0;34m\u001b[0m\u001b[0m\n",
            "\u001b[0;32m/usr/local/lib/python3.7/dist-packages/numpy/lib/npyio.py\u001b[0m in \u001b[0;36mfloatconv\u001b[0;34m(x)\u001b[0m\n\u001b[1;32m    761\u001b[0m         \u001b[0;32mif\u001b[0m \u001b[0;34m'0x'\u001b[0m \u001b[0;32min\u001b[0m \u001b[0mx\u001b[0m\u001b[0;34m:\u001b[0m\u001b[0;34m\u001b[0m\u001b[0;34m\u001b[0m\u001b[0m\n\u001b[1;32m    762\u001b[0m             \u001b[0;32mreturn\u001b[0m \u001b[0mfloat\u001b[0m\u001b[0;34m.\u001b[0m\u001b[0mfromhex\u001b[0m\u001b[0;34m(\u001b[0m\u001b[0mx\u001b[0m\u001b[0;34m)\u001b[0m\u001b[0;34m\u001b[0m\u001b[0;34m\u001b[0m\u001b[0m\n\u001b[0;32m--> 763\u001b[0;31m         \u001b[0;32mreturn\u001b[0m \u001b[0mfloat\u001b[0m\u001b[0;34m(\u001b[0m\u001b[0mx\u001b[0m\u001b[0;34m)\u001b[0m\u001b[0;34m\u001b[0m\u001b[0;34m\u001b[0m\u001b[0m\n\u001b[0m\u001b[1;32m    764\u001b[0m \u001b[0;34m\u001b[0m\u001b[0m\n\u001b[1;32m    765\u001b[0m     \u001b[0mtyp\u001b[0m \u001b[0;34m=\u001b[0m \u001b[0mdtype\u001b[0m\u001b[0;34m.\u001b[0m\u001b[0mtype\u001b[0m\u001b[0;34m\u001b[0m\u001b[0;34m\u001b[0m\u001b[0m\n",
            "\u001b[0;31mValueError\u001b[0m: could not convert string to float: 'MERCURY'"
          ]
        }
      ]
    },
    {
      "cell_type": "code",
      "metadata": {
        "colab": {
          "base_uri": "https://localhost:8080/",
          "height": 306
        },
        "id": "tDjxspai3TXX",
        "outputId": "1b82f1fe-09b2-40da-b8ec-d7e7d236b947"
      },
      "source": [
        "planet_small = np.loadtxt(\"planets_small-200320-181217.txt\", skiprows=1) # skip the 1st row containing names of planets "
      ],
      "execution_count": null,
      "outputs": [
        {
          "output_type": "error",
          "ename": "ValueError",
          "evalue": "ignored",
          "traceback": [
            "\u001b[0;31m---------------------------------------------------------------------------\u001b[0m",
            "\u001b[0;31mValueError\u001b[0m                                Traceback (most recent call last)",
            "\u001b[0;32m<ipython-input-66-dc6e658fcad3>\u001b[0m in \u001b[0;36m<module>\u001b[0;34m()\u001b[0m\n\u001b[0;32m----> 1\u001b[0;31m \u001b[0mplanet_small\u001b[0m \u001b[0;34m=\u001b[0m \u001b[0mnp\u001b[0m\u001b[0;34m.\u001b[0m\u001b[0mloadtxt\u001b[0m\u001b[0;34m(\u001b[0m\u001b[0;34m\"planets_small-200320-181217.txt\"\u001b[0m\u001b[0;34m,\u001b[0m \u001b[0mskiprows\u001b[0m\u001b[0;34m=\u001b[0m\u001b[0;36m1\u001b[0m\u001b[0;34m)\u001b[0m \u001b[0;31m# skip the 1st row containing names of planets\u001b[0m\u001b[0;34m\u001b[0m\u001b[0;34m\u001b[0m\u001b[0m\n\u001b[0m",
            "\u001b[0;32m/usr/local/lib/python3.7/dist-packages/numpy/lib/npyio.py\u001b[0m in \u001b[0;36mloadtxt\u001b[0;34m(fname, dtype, comments, delimiter, converters, skiprows, usecols, unpack, ndmin, encoding, max_rows)\u001b[0m\n\u001b[1;32m   1137\u001b[0m         \u001b[0;31m# converting the data\u001b[0m\u001b[0;34m\u001b[0m\u001b[0;34m\u001b[0m\u001b[0;34m\u001b[0m\u001b[0m\n\u001b[1;32m   1138\u001b[0m         \u001b[0mX\u001b[0m \u001b[0;34m=\u001b[0m \u001b[0;32mNone\u001b[0m\u001b[0;34m\u001b[0m\u001b[0;34m\u001b[0m\u001b[0m\n\u001b[0;32m-> 1139\u001b[0;31m         \u001b[0;32mfor\u001b[0m \u001b[0mx\u001b[0m \u001b[0;32min\u001b[0m \u001b[0mread_data\u001b[0m\u001b[0;34m(\u001b[0m\u001b[0m_loadtxt_chunksize\u001b[0m\u001b[0;34m)\u001b[0m\u001b[0;34m:\u001b[0m\u001b[0;34m\u001b[0m\u001b[0;34m\u001b[0m\u001b[0m\n\u001b[0m\u001b[1;32m   1140\u001b[0m             \u001b[0;32mif\u001b[0m \u001b[0mX\u001b[0m \u001b[0;32mis\u001b[0m \u001b[0;32mNone\u001b[0m\u001b[0;34m:\u001b[0m\u001b[0;34m\u001b[0m\u001b[0;34m\u001b[0m\u001b[0m\n\u001b[1;32m   1141\u001b[0m                 \u001b[0mX\u001b[0m \u001b[0;34m=\u001b[0m \u001b[0mnp\u001b[0m\u001b[0;34m.\u001b[0m\u001b[0marray\u001b[0m\u001b[0;34m(\u001b[0m\u001b[0mx\u001b[0m\u001b[0;34m,\u001b[0m \u001b[0mdtype\u001b[0m\u001b[0;34m)\u001b[0m\u001b[0;34m\u001b[0m\u001b[0;34m\u001b[0m\u001b[0m\n",
            "\u001b[0;32m/usr/local/lib/python3.7/dist-packages/numpy/lib/npyio.py\u001b[0m in \u001b[0;36mread_data\u001b[0;34m(chunk_size)\u001b[0m\n\u001b[1;32m   1065\u001b[0m \u001b[0;34m\u001b[0m\u001b[0m\n\u001b[1;32m   1066\u001b[0m             \u001b[0;31m# Convert each value according to its column and store\u001b[0m\u001b[0;34m\u001b[0m\u001b[0;34m\u001b[0m\u001b[0;34m\u001b[0m\u001b[0m\n\u001b[0;32m-> 1067\u001b[0;31m             \u001b[0mitems\u001b[0m \u001b[0;34m=\u001b[0m \u001b[0;34m[\u001b[0m\u001b[0mconv\u001b[0m\u001b[0;34m(\u001b[0m\u001b[0mval\u001b[0m\u001b[0;34m)\u001b[0m \u001b[0;32mfor\u001b[0m \u001b[0;34m(\u001b[0m\u001b[0mconv\u001b[0m\u001b[0;34m,\u001b[0m \u001b[0mval\u001b[0m\u001b[0;34m)\u001b[0m \u001b[0;32min\u001b[0m \u001b[0mzip\u001b[0m\u001b[0;34m(\u001b[0m\u001b[0mconverters\u001b[0m\u001b[0;34m,\u001b[0m \u001b[0mvals\u001b[0m\u001b[0;34m)\u001b[0m\u001b[0;34m]\u001b[0m\u001b[0;34m\u001b[0m\u001b[0;34m\u001b[0m\u001b[0m\n\u001b[0m\u001b[1;32m   1068\u001b[0m \u001b[0;34m\u001b[0m\u001b[0m\n\u001b[1;32m   1069\u001b[0m             \u001b[0;31m# Then pack it according to the dtype's nesting\u001b[0m\u001b[0;34m\u001b[0m\u001b[0;34m\u001b[0m\u001b[0;34m\u001b[0m\u001b[0m\n",
            "\u001b[0;32m/usr/local/lib/python3.7/dist-packages/numpy/lib/npyio.py\u001b[0m in \u001b[0;36m<listcomp>\u001b[0;34m(.0)\u001b[0m\n\u001b[1;32m   1065\u001b[0m \u001b[0;34m\u001b[0m\u001b[0m\n\u001b[1;32m   1066\u001b[0m             \u001b[0;31m# Convert each value according to its column and store\u001b[0m\u001b[0;34m\u001b[0m\u001b[0;34m\u001b[0m\u001b[0;34m\u001b[0m\u001b[0m\n\u001b[0;32m-> 1067\u001b[0;31m             \u001b[0mitems\u001b[0m \u001b[0;34m=\u001b[0m \u001b[0;34m[\u001b[0m\u001b[0mconv\u001b[0m\u001b[0;34m(\u001b[0m\u001b[0mval\u001b[0m\u001b[0;34m)\u001b[0m \u001b[0;32mfor\u001b[0m \u001b[0;34m(\u001b[0m\u001b[0mconv\u001b[0m\u001b[0;34m,\u001b[0m \u001b[0mval\u001b[0m\u001b[0;34m)\u001b[0m \u001b[0;32min\u001b[0m \u001b[0mzip\u001b[0m\u001b[0;34m(\u001b[0m\u001b[0mconverters\u001b[0m\u001b[0;34m,\u001b[0m \u001b[0mvals\u001b[0m\u001b[0;34m)\u001b[0m\u001b[0;34m]\u001b[0m\u001b[0;34m\u001b[0m\u001b[0;34m\u001b[0m\u001b[0m\n\u001b[0m\u001b[1;32m   1068\u001b[0m \u001b[0;34m\u001b[0m\u001b[0m\n\u001b[1;32m   1069\u001b[0m             \u001b[0;31m# Then pack it according to the dtype's nesting\u001b[0m\u001b[0;34m\u001b[0m\u001b[0;34m\u001b[0m\u001b[0;34m\u001b[0m\u001b[0m\n",
            "\u001b[0;32m/usr/local/lib/python3.7/dist-packages/numpy/lib/npyio.py\u001b[0m in \u001b[0;36mfloatconv\u001b[0;34m(x)\u001b[0m\n\u001b[1;32m    761\u001b[0m         \u001b[0;32mif\u001b[0m \u001b[0;34m'0x'\u001b[0m \u001b[0;32min\u001b[0m \u001b[0mx\u001b[0m\u001b[0;34m:\u001b[0m\u001b[0;34m\u001b[0m\u001b[0;34m\u001b[0m\u001b[0m\n\u001b[1;32m    762\u001b[0m             \u001b[0;32mreturn\u001b[0m \u001b[0mfloat\u001b[0m\u001b[0;34m.\u001b[0m\u001b[0mfromhex\u001b[0m\u001b[0;34m(\u001b[0m\u001b[0mx\u001b[0m\u001b[0;34m)\u001b[0m\u001b[0;34m\u001b[0m\u001b[0;34m\u001b[0m\u001b[0m\n\u001b[0;32m--> 763\u001b[0;31m         \u001b[0;32mreturn\u001b[0m \u001b[0mfloat\u001b[0m\u001b[0;34m(\u001b[0m\u001b[0mx\u001b[0m\u001b[0;34m)\u001b[0m\u001b[0;34m\u001b[0m\u001b[0;34m\u001b[0m\u001b[0m\n\u001b[0m\u001b[1;32m    764\u001b[0m \u001b[0;34m\u001b[0m\u001b[0m\n\u001b[1;32m    765\u001b[0m     \u001b[0mtyp\u001b[0m \u001b[0;34m=\u001b[0m \u001b[0mdtype\u001b[0m\u001b[0;34m.\u001b[0m\u001b[0mtype\u001b[0m\u001b[0;34m\u001b[0m\u001b[0;34m\u001b[0m\u001b[0m\n",
            "\u001b[0;31mValueError\u001b[0m: could not convert string to float: 'Mass'"
          ]
        }
      ]
    },
    {
      "cell_type": "code",
      "metadata": {
        "id": "Q1WKJfXo3Zl2"
      },
      "source": [
        "planet_small = np.loadtxt(\"planets_small-200320-181217.txt\", \n",
        "                          skiprows=1, usecols=(1,2,3,4,5,6,7,8,9)) # use only those coloumn having numerical data in them "
      ],
      "execution_count": null,
      "outputs": []
    },
    {
      "cell_type": "code",
      "metadata": {
        "colab": {
          "base_uri": "https://localhost:8080/"
        },
        "id": "bVSCy7EZ3rFX",
        "outputId": "76a744dd-4d64-40fc-ab96-c673ada49f88"
      },
      "source": [
        "planet_small"
      ],
      "execution_count": null,
      "outputs": [
        {
          "output_type": "execute_result",
          "data": {
            "text/plain": [
              "array([[3.3000e-01, 4.8700e+00, 5.9700e+00, 6.4200e-01, 1.8980e+03,\n",
              "        5.6800e+02, 8.6800e+01, 1.0200e+02, 1.4600e-02],\n",
              "       [5.7900e+01, 1.0820e+02, 1.4960e+02, 2.2790e+02, 7.7860e+02,\n",
              "        1.4335e+03, 2.8725e+03, 4.4951e+03, 5.9064e+03],\n",
              "       [4.2226e+03, 2.8020e+03, 2.4000e+01, 2.4700e+01, 9.9000e+00,\n",
              "        1.0700e+01, 1.7200e+01, 1.6100e+01, 1.5330e+02]])"
            ]
          },
          "metadata": {
            "tags": []
          },
          "execution_count": 67
        }
      ]
    },
    {
      "cell_type": "code",
      "metadata": {
        "colab": {
          "base_uri": "https://localhost:8080/"
        },
        "id": "5FTMX7Tn5reG",
        "outputId": "9bff2123-a2ff-4c9b-9f7b-9cf249ef3210"
      },
      "source": [
        "planet_small.shape"
      ],
      "execution_count": null,
      "outputs": [
        {
          "output_type": "execute_result",
          "data": {
            "text/plain": [
              "(3, 9)"
            ]
          },
          "metadata": {
            "tags": []
          },
          "execution_count": 75
        }
      ]
    },
    {
      "cell_type": "code",
      "metadata": {
        "colab": {
          "base_uri": "https://localhost:8080/",
          "height": 340
        },
        "id": "E0xjKD3C36_H",
        "outputId": "f7a66375-0ec5-455a-ad19-cf8beae63ff5"
      },
      "source": [
        "# planet nig => file contain some unknown values which numpy is taking as string.. hence we have to handle that also.\n",
        "planets = np.loadtxt(\"planets-200320-181217.txt\", \n",
        "                          skiprows=1, usecols=(1,2,3,4,5,6,7,8,9)) "
      ],
      "execution_count": null,
      "outputs": [
        {
          "output_type": "error",
          "ename": "ValueError",
          "evalue": "ignored",
          "traceback": [
            "\u001b[0;31m---------------------------------------------------------------------------\u001b[0m",
            "\u001b[0;31mValueError\u001b[0m                                Traceback (most recent call last)",
            "\u001b[0;32m<ipython-input-70-a624b3677639>\u001b[0m in \u001b[0;36m<module>\u001b[0;34m()\u001b[0m\n\u001b[1;32m      1\u001b[0m \u001b[0;31m# planet nig => file contain some unknown values which numpy is taking as string.. hence we have to handle that also\u001b[0m\u001b[0;34m\u001b[0m\u001b[0;34m\u001b[0m\u001b[0;34m\u001b[0m\u001b[0m\n\u001b[1;32m      2\u001b[0m planets = np.loadtxt(\"planets-200320-181217.txt\", \n\u001b[0;32m----> 3\u001b[0;31m                           skiprows=1, usecols=(1,2,3,4,5,6,7,8,9)) \n\u001b[0m",
            "\u001b[0;32m/usr/local/lib/python3.7/dist-packages/numpy/lib/npyio.py\u001b[0m in \u001b[0;36mloadtxt\u001b[0;34m(fname, dtype, comments, delimiter, converters, skiprows, usecols, unpack, ndmin, encoding, max_rows)\u001b[0m\n\u001b[1;32m   1137\u001b[0m         \u001b[0;31m# converting the data\u001b[0m\u001b[0;34m\u001b[0m\u001b[0;34m\u001b[0m\u001b[0;34m\u001b[0m\u001b[0m\n\u001b[1;32m   1138\u001b[0m         \u001b[0mX\u001b[0m \u001b[0;34m=\u001b[0m \u001b[0;32mNone\u001b[0m\u001b[0;34m\u001b[0m\u001b[0;34m\u001b[0m\u001b[0m\n\u001b[0;32m-> 1139\u001b[0;31m         \u001b[0;32mfor\u001b[0m \u001b[0mx\u001b[0m \u001b[0;32min\u001b[0m \u001b[0mread_data\u001b[0m\u001b[0;34m(\u001b[0m\u001b[0m_loadtxt_chunksize\u001b[0m\u001b[0;34m)\u001b[0m\u001b[0;34m:\u001b[0m\u001b[0;34m\u001b[0m\u001b[0;34m\u001b[0m\u001b[0m\n\u001b[0m\u001b[1;32m   1140\u001b[0m             \u001b[0;32mif\u001b[0m \u001b[0mX\u001b[0m \u001b[0;32mis\u001b[0m \u001b[0;32mNone\u001b[0m\u001b[0;34m:\u001b[0m\u001b[0;34m\u001b[0m\u001b[0;34m\u001b[0m\u001b[0m\n\u001b[1;32m   1141\u001b[0m                 \u001b[0mX\u001b[0m \u001b[0;34m=\u001b[0m \u001b[0mnp\u001b[0m\u001b[0;34m.\u001b[0m\u001b[0marray\u001b[0m\u001b[0;34m(\u001b[0m\u001b[0mx\u001b[0m\u001b[0;34m,\u001b[0m \u001b[0mdtype\u001b[0m\u001b[0;34m)\u001b[0m\u001b[0;34m\u001b[0m\u001b[0;34m\u001b[0m\u001b[0m\n",
            "\u001b[0;32m/usr/local/lib/python3.7/dist-packages/numpy/lib/npyio.py\u001b[0m in \u001b[0;36mread_data\u001b[0;34m(chunk_size)\u001b[0m\n\u001b[1;32m   1065\u001b[0m \u001b[0;34m\u001b[0m\u001b[0m\n\u001b[1;32m   1066\u001b[0m             \u001b[0;31m# Convert each value according to its column and store\u001b[0m\u001b[0;34m\u001b[0m\u001b[0;34m\u001b[0m\u001b[0;34m\u001b[0m\u001b[0m\n\u001b[0;32m-> 1067\u001b[0;31m             \u001b[0mitems\u001b[0m \u001b[0;34m=\u001b[0m \u001b[0;34m[\u001b[0m\u001b[0mconv\u001b[0m\u001b[0;34m(\u001b[0m\u001b[0mval\u001b[0m\u001b[0;34m)\u001b[0m \u001b[0;32mfor\u001b[0m \u001b[0;34m(\u001b[0m\u001b[0mconv\u001b[0m\u001b[0;34m,\u001b[0m \u001b[0mval\u001b[0m\u001b[0;34m)\u001b[0m \u001b[0;32min\u001b[0m \u001b[0mzip\u001b[0m\u001b[0;34m(\u001b[0m\u001b[0mconverters\u001b[0m\u001b[0;34m,\u001b[0m \u001b[0mvals\u001b[0m\u001b[0;34m)\u001b[0m\u001b[0;34m]\u001b[0m\u001b[0;34m\u001b[0m\u001b[0;34m\u001b[0m\u001b[0m\n\u001b[0m\u001b[1;32m   1068\u001b[0m \u001b[0;34m\u001b[0m\u001b[0m\n\u001b[1;32m   1069\u001b[0m             \u001b[0;31m# Then pack it according to the dtype's nesting\u001b[0m\u001b[0;34m\u001b[0m\u001b[0;34m\u001b[0m\u001b[0;34m\u001b[0m\u001b[0m\n",
            "\u001b[0;32m/usr/local/lib/python3.7/dist-packages/numpy/lib/npyio.py\u001b[0m in \u001b[0;36m<listcomp>\u001b[0;34m(.0)\u001b[0m\n\u001b[1;32m   1065\u001b[0m \u001b[0;34m\u001b[0m\u001b[0m\n\u001b[1;32m   1066\u001b[0m             \u001b[0;31m# Convert each value according to its column and store\u001b[0m\u001b[0;34m\u001b[0m\u001b[0;34m\u001b[0m\u001b[0;34m\u001b[0m\u001b[0m\n\u001b[0;32m-> 1067\u001b[0;31m             \u001b[0mitems\u001b[0m \u001b[0;34m=\u001b[0m \u001b[0;34m[\u001b[0m\u001b[0mconv\u001b[0m\u001b[0;34m(\u001b[0m\u001b[0mval\u001b[0m\u001b[0;34m)\u001b[0m \u001b[0;32mfor\u001b[0m \u001b[0;34m(\u001b[0m\u001b[0mconv\u001b[0m\u001b[0;34m,\u001b[0m \u001b[0mval\u001b[0m\u001b[0;34m)\u001b[0m \u001b[0;32min\u001b[0m \u001b[0mzip\u001b[0m\u001b[0;34m(\u001b[0m\u001b[0mconverters\u001b[0m\u001b[0;34m,\u001b[0m \u001b[0mvals\u001b[0m\u001b[0;34m)\u001b[0m\u001b[0;34m]\u001b[0m\u001b[0;34m\u001b[0m\u001b[0;34m\u001b[0m\u001b[0m\n\u001b[0m\u001b[1;32m   1068\u001b[0m \u001b[0;34m\u001b[0m\u001b[0m\n\u001b[1;32m   1069\u001b[0m             \u001b[0;31m# Then pack it according to the dtype's nesting\u001b[0m\u001b[0;34m\u001b[0m\u001b[0;34m\u001b[0m\u001b[0;34m\u001b[0m\u001b[0m\n",
            "\u001b[0;32m/usr/local/lib/python3.7/dist-packages/numpy/lib/npyio.py\u001b[0m in \u001b[0;36mfloatconv\u001b[0;34m(x)\u001b[0m\n\u001b[1;32m    761\u001b[0m         \u001b[0;32mif\u001b[0m \u001b[0;34m'0x'\u001b[0m \u001b[0;32min\u001b[0m \u001b[0mx\u001b[0m\u001b[0;34m:\u001b[0m\u001b[0;34m\u001b[0m\u001b[0;34m\u001b[0m\u001b[0m\n\u001b[1;32m    762\u001b[0m             \u001b[0;32mreturn\u001b[0m \u001b[0mfloat\u001b[0m\u001b[0;34m.\u001b[0m\u001b[0mfromhex\u001b[0m\u001b[0;34m(\u001b[0m\u001b[0mx\u001b[0m\u001b[0;34m)\u001b[0m\u001b[0;34m\u001b[0m\u001b[0;34m\u001b[0m\u001b[0m\n\u001b[0;32m--> 763\u001b[0;31m         \u001b[0;32mreturn\u001b[0m \u001b[0mfloat\u001b[0m\u001b[0;34m(\u001b[0m\u001b[0mx\u001b[0m\u001b[0;34m)\u001b[0m\u001b[0;34m\u001b[0m\u001b[0;34m\u001b[0m\u001b[0m\n\u001b[0m\u001b[1;32m    764\u001b[0m \u001b[0;34m\u001b[0m\u001b[0m\n\u001b[1;32m    765\u001b[0m     \u001b[0mtyp\u001b[0m \u001b[0;34m=\u001b[0m \u001b[0mdtype\u001b[0m\u001b[0;34m.\u001b[0m\u001b[0mtype\u001b[0m\u001b[0;34m\u001b[0m\u001b[0;34m\u001b[0m\u001b[0m\n",
            "\u001b[0;31mValueError\u001b[0m: could not convert string to float: 'Unknown'"
          ]
        }
      ]
    },
    {
      "cell_type": "code",
      "metadata": {
        "id": "a2fO1HFu4TKu"
      },
      "source": [
        "# we will use genfromtxt function instead of loadtxt.. genearte from txt\n",
        "planets = np.genfromtxt(\"planets-200320-181217.txt\", skip_header=1, usecols=(1,2,3,4,5,6,7,8,9))"
      ],
      "execution_count": null,
      "outputs": []
    },
    {
      "cell_type": "code",
      "metadata": {
        "id": "rqOBaIQF5QVm"
      },
      "source": [
        "planets # unknown will be read as nan (not a number)"
      ],
      "execution_count": null,
      "outputs": []
    },
    {
      "cell_type": "code",
      "metadata": {
        "colab": {
          "base_uri": "https://localhost:8080/"
        },
        "id": "RaP0elah5nxe",
        "outputId": "a6cea440-a364-4663-feaf-4fd81b576812"
      },
      "source": [
        "planets.shape"
      ],
      "execution_count": null,
      "outputs": [
        {
          "output_type": "execute_result",
          "data": {
            "text/plain": [
              "(20, 9)"
            ]
          },
          "metadata": {
            "tags": []
          },
          "execution_count": 74
        }
      ]
    },
    {
      "cell_type": "code",
      "metadata": {
        "colab": {
          "base_uri": "https://localhost:8080/"
        },
        "id": "PybViNIT5wsM",
        "outputId": "4be07216-c738-4cc6-e4d0-60d516bf6b22"
      },
      "source": [
        "np.isnan(planets)"
      ],
      "execution_count": null,
      "outputs": [
        {
          "output_type": "execute_result",
          "data": {
            "text/plain": [
              "array([[False, False, False, False, False, False, False, False, False],\n",
              "       [False, False, False, False, False, False, False, False, False],\n",
              "       [False, False, False, False, False, False, False, False, False],\n",
              "       [False, False, False, False, False, False, False, False, False],\n",
              "       [False, False, False, False, False, False, False, False, False],\n",
              "       [False, False, False, False, False, False, False, False, False],\n",
              "       [False, False, False, False, False, False, False, False, False],\n",
              "       [False, False, False, False, False, False, False, False, False],\n",
              "       [False, False, False, False, False, False, False, False, False],\n",
              "       [False, False, False, False, False, False, False, False, False],\n",
              "       [False, False, False, False, False, False, False, False, False],\n",
              "       [False, False, False, False, False, False, False, False, False],\n",
              "       [False, False, False, False, False, False, False, False, False],\n",
              "       [False, False, False, False, False, False, False, False, False],\n",
              "       [False, False, False, False, False, False, False, False, False],\n",
              "       [False, False, False, False, False, False, False, False, False],\n",
              "       [False, False, False, False, False,  True,  True,  True,  True],\n",
              "       [False, False, False, False, False, False, False, False, False],\n",
              "       [False, False, False, False, False, False, False, False, False],\n",
              "       [False, False, False, False, False, False, False, False, False]])"
            ]
          },
          "metadata": {
            "tags": []
          },
          "execution_count": 76
        }
      ]
    },
    {
      "cell_type": "code",
      "metadata": {
        "id": "OkEt59KY5T3m"
      },
      "source": [
        "# replace nan with -1 .. to word with numpy convert nan into some numeriacal value \n",
        "planet_new = np.nan_to_num(planets, nan=-1) # nan to numerical"
      ],
      "execution_count": null,
      "outputs": []
    },
    {
      "cell_type": "code",
      "metadata": {
        "id": "RxS5bweI6DVt"
      },
      "source": [
        "#Now save these files on cloud so that numpy can use it after word\n",
        "np.savetxt(\"planets_new.txt\", planet_new, delimiter=',')"
      ],
      "execution_count": null,
      "outputs": []
    },
    {
      "cell_type": "code",
      "metadata": {
        "id": "wwwY6-R36lsO"
      },
      "source": [
        "#Now save these files on cloud so that numpy can use it after word\n",
        "np.save(\"planets_new\", planet_new) # no extension .. as numpy will add its own extension"
      ],
      "execution_count": null,
      "outputs": []
    },
    {
      "cell_type": "code",
      "metadata": {
        "colab": {
          "base_uri": "https://localhost:8080/"
        },
        "id": "qgSgWDt-6wnW",
        "outputId": "19b85f60-ea96-4ebc-ac78-6369ad1ee8d4"
      },
      "source": [
        "!ls -lh # linux cmds to see all the saved available files"
      ],
      "execution_count": null,
      "outputs": [
        {
          "output_type": "stream",
          "text": [
            "total 24K\n",
            "-rw-r--r-- 1 root root 1.5K Jul 29 06:00 planets-200320-181217.txt\n",
            "-rw-r--r-- 1 root root 1.6K Jul 29 06:19 planets_new.npy\n",
            "-rw-r--r-- 1 root root 4.5K Jul 29 06:20 planets_new.txt\n",
            "-rw-r--r-- 1 root root  254 Jul 29 06:00 planets_small-200320-181217.txt\n",
            "drwxr-xr-x 1 root root 4.0K Jul 16 13:20 sample_data\n"
          ],
          "name": "stdout"
        }
      ]
    },
    {
      "cell_type": "code",
      "metadata": {
        "id": "pYPTI0t47Hyj"
      },
      "source": [
        "#saving multiple arrays \n",
        "arr1 = np.random.rand(1000, 10)\n",
        "arr2 = np.random.rand(2000, 5)\n",
        "arr3 = np.random.rand(20, 10000)"
      ],
      "execution_count": null,
      "outputs": []
    },
    {
      "cell_type": "code",
      "metadata": {
        "id": "6YXYiQzx7j72"
      },
      "source": [
        "np.savez(\"many_arrs\", arr1, arr2, arr3)"
      ],
      "execution_count": null,
      "outputs": []
    },
    {
      "cell_type": "code",
      "metadata": {
        "colab": {
          "base_uri": "https://localhost:8080/"
        },
        "id": "qli3g57O709V",
        "outputId": "05c25b9d-d64e-48ee-e26d-da7d144d92c1"
      },
      "source": [
        "!ls -lh"
      ],
      "execution_count": null,
      "outputs": [
        {
          "output_type": "stream",
          "text": [
            "total 1.8M\n",
            "-rw-r--r-- 1 root root 1.7M Jul 29 06:24 many_arrs.npz\n",
            "-rw-r--r-- 1 root root 1.5K Jul 29 06:00 planets-200320-181217.txt\n",
            "-rw-r--r-- 1 root root 1.6K Jul 29 06:19 planets_new.npy\n",
            "-rw-r--r-- 1 root root 4.5K Jul 29 06:20 planets_new.txt\n",
            "-rw-r--r-- 1 root root  254 Jul 29 06:00 planets_small-200320-181217.txt\n",
            "drwxr-xr-x 1 root root 4.0K Jul 16 13:20 sample_data\n"
          ],
          "name": "stdout"
        }
      ]
    },
    {
      "cell_type": "code",
      "metadata": {
        "id": "f2M5DBGv72ql"
      },
      "source": [
        "# load or get the file\n",
        "arrs = np.load(\"many_arrs.npz\")"
      ],
      "execution_count": null,
      "outputs": []
    },
    {
      "cell_type": "code",
      "metadata": {
        "colab": {
          "base_uri": "https://localhost:8080/"
        },
        "id": "Gi9tW8Iu8HIG",
        "outputId": "b987abec-e85a-4e3e-9916-dfddb6196094"
      },
      "source": [
        "arrs.files"
      ],
      "execution_count": null,
      "outputs": [
        {
          "output_type": "execute_result",
          "data": {
            "text/plain": [
              "['arr_0', 'arr_1', 'arr_2']"
            ]
          },
          "metadata": {
            "tags": []
          },
          "execution_count": 90
        }
      ]
    },
    {
      "cell_type": "code",
      "metadata": {
        "colab": {
          "base_uri": "https://localhost:8080/"
        },
        "id": "Me_SzaNH8Jil",
        "outputId": "43793e49-5f89-4882-9da6-429921df22d5"
      },
      "source": [
        "arrs[\"arr_0\"].shape"
      ],
      "execution_count": null,
      "outputs": [
        {
          "output_type": "execute_result",
          "data": {
            "text/plain": [
              "(1000, 10)"
            ]
          },
          "metadata": {
            "tags": []
          },
          "execution_count": 91
        }
      ]
    },
    {
      "cell_type": "code",
      "metadata": {
        "colab": {
          "base_uri": "https://localhost:8080/"
        },
        "id": "V3Fmj6uj8NUF",
        "outputId": "244fc8c2-7f21-4149-cd23-d455f48c8aef"
      },
      "source": [
        "arrs[\"arr_1\"].shape"
      ],
      "execution_count": null,
      "outputs": [
        {
          "output_type": "execute_result",
          "data": {
            "text/plain": [
              "(2000, 5)"
            ]
          },
          "metadata": {
            "tags": []
          },
          "execution_count": 92
        }
      ]
    },
    {
      "cell_type": "code",
      "metadata": {
        "colab": {
          "base_uri": "https://localhost:8080/"
        },
        "id": "NGYeykdz8QVV",
        "outputId": "4f0cdc7b-5a1d-4570-b875-fbc0c52e1507"
      },
      "source": [
        "arrs[\"arr_2\"].shape"
      ],
      "execution_count": null,
      "outputs": [
        {
          "output_type": "execute_result",
          "data": {
            "text/plain": [
              "(20, 10000)"
            ]
          },
          "metadata": {
            "tags": []
          },
          "execution_count": 94
        }
      ]
    },
    {
      "cell_type": "code",
      "metadata": {
        "id": "_jdnaat08TWF"
      },
      "source": [
        "# save files as a compressed version\n",
        "np.savez_compressed(\"many_files_compressed\", arr1, arr2, arr3)"
      ],
      "execution_count": null,
      "outputs": []
    },
    {
      "cell_type": "code",
      "metadata": {
        "colab": {
          "base_uri": "https://localhost:8080/"
        },
        "id": "9Pbn3oCA8jvF",
        "outputId": "446924c6-a64e-4d68-ca30-81a34eacfc82"
      },
      "source": [
        "!ls -lh"
      ],
      "execution_count": null,
      "outputs": [
        {
          "output_type": "stream",
          "text": [
            "total 3.3M\n",
            "-rw-r--r-- 1 root root 1.7M Jul 29 06:24 many_arrs.npz\n",
            "-rw-r--r-- 1 root root 1.6M Jul 29 06:27 many_files_compressed.npz\n",
            "-rw-r--r-- 1 root root 1.5K Jul 29 06:00 planets-200320-181217.txt\n",
            "-rw-r--r-- 1 root root 1.6K Jul 29 06:19 planets_new.npy\n",
            "-rw-r--r-- 1 root root 4.5K Jul 29 06:20 planets_new.txt\n",
            "-rw-r--r-- 1 root root  254 Jul 29 06:00 planets_small-200320-181217.txt\n",
            "drwxr-xr-x 1 root root 4.0K Jul 16 13:20 sample_data\n"
          ],
          "name": "stdout"
        }
      ]
    },
    {
      "cell_type": "code",
      "metadata": {
        "id": "iibEzi568lGV"
      },
      "source": [
        "arr1 = np.ones((1000, 1000))"
      ],
      "execution_count": null,
      "outputs": []
    },
    {
      "cell_type": "code",
      "metadata": {
        "id": "nZiRKC9Y8tJF"
      },
      "source": [
        "np.savez(\"zeros_file\", arr1)"
      ],
      "execution_count": null,
      "outputs": []
    },
    {
      "cell_type": "code",
      "metadata": {
        "id": "klOgCmu481bl"
      },
      "source": [
        "np.savez_compressed(\"zeros_file_compressed\", arr1) # numpy will compress the sparsely populated files or more same values files in very efficeint manner "
      ],
      "execution_count": null,
      "outputs": []
    },
    {
      "cell_type": "code",
      "metadata": {
        "colab": {
          "base_uri": "https://localhost:8080/"
        },
        "id": "4rjlYs0g88QV",
        "outputId": "2ca551bf-68ca-48c2-e9a4-d5d6c2fbd200"
      },
      "source": [
        "!ls -lh"
      ],
      "execution_count": null,
      "outputs": [
        {
          "output_type": "stream",
          "text": [
            "total 11M\n",
            "-rw-r--r-- 1 root root 1.7M Jul 29 06:24 many_arrs.npz\n",
            "-rw-r--r-- 1 root root 1.6M Jul 29 06:27 many_files_compressed.npz\n",
            "-rw-r--r-- 1 root root 1.5K Jul 29 06:00 planets-200320-181217.txt\n",
            "-rw-r--r-- 1 root root 1.6K Jul 29 06:19 planets_new.npy\n",
            "-rw-r--r-- 1 root root 4.5K Jul 29 06:20 planets_new.txt\n",
            "-rw-r--r-- 1 root root  254 Jul 29 06:00 planets_small-200320-181217.txt\n",
            "drwxr-xr-x 1 root root 4.0K Jul 16 13:20 sample_data\n",
            "-rw-r--r-- 1 root root  12K Jul 29 06:30 zeros_file_compressed.npz\n",
            "-rw-r--r-- 1 root root 7.7M Jul 29 06:30 zeros_file.npz\n"
          ],
          "name": "stdout"
        }
      ]
    },
    {
      "cell_type": "code",
      "metadata": {
        "id": "zF1N4zUG895l"
      },
      "source": [
        ""
      ],
      "execution_count": null,
      "outputs": []
    }
  ]
}